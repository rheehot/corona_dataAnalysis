{
 "cells": [
  {
   "cell_type": "code",
   "execution_count": 1,
   "metadata": {},
   "outputs": [],
   "source": [
    "import pandas as pd\n",
    "import numpy as np\n",
    "import os\n",
    "import matplotlib.pyplot as plt\n",
    "import seaborn as sns\n",
    "import scipy.stats as st\n",
    "\n",
    "%matplotlib inline\n",
    "from matplotlib import font_manager, rc\n",
    "font_name = font_manager.FontProperties(fname=\"c:/Windows/Fonts/malgun.ttf\").get_name()\n",
    "rc('font', family=font_name)\n",
    "import datetime"
   ]
  },
  {
   "cell_type": "code",
   "execution_count": 2,
   "metadata": {},
   "outputs": [],
   "source": [
    "# 경고메시지 무시\n",
    "import warnings\n",
    "warnings.filterwarnings(\"ignore\")"
   ]
  },
  {
   "cell_type": "code",
   "execution_count": 3,
   "metadata": {},
   "outputs": [],
   "source": [
    "# 코로나 확진자 이동 경로 파일\n",
    "df1 = pd.read_csv('./data/PatientRoute.csv', header='infer',encoding = 'latin1', na_values=[' '])"
   ]
  },
  {
   "cell_type": "code",
   "execution_count": 4,
   "metadata": {},
   "outputs": [
    {
     "data": {
      "text/html": [
       "<div>\n",
       "<style scoped>\n",
       "    .dataframe tbody tr th:only-of-type {\n",
       "        vertical-align: middle;\n",
       "    }\n",
       "\n",
       "    .dataframe tbody tr th {\n",
       "        vertical-align: top;\n",
       "    }\n",
       "\n",
       "    .dataframe thead th {\n",
       "        text-align: right;\n",
       "    }\n",
       "</style>\n",
       "<table border=\"1\" class=\"dataframe\">\n",
       "  <thead>\n",
       "    <tr style=\"text-align: right;\">\n",
       "      <th></th>\n",
       "      <th>patient_id</th>\n",
       "      <th>global_num</th>\n",
       "      <th>date</th>\n",
       "      <th>province</th>\n",
       "      <th>city</th>\n",
       "      <th>type</th>\n",
       "      <th>latitude</th>\n",
       "      <th>longitude</th>\n",
       "    </tr>\n",
       "  </thead>\n",
       "  <tbody>\n",
       "    <tr>\n",
       "      <th>0</th>\n",
       "      <td>1000000001</td>\n",
       "      <td>2.0</td>\n",
       "      <td>2020-01-22</td>\n",
       "      <td>Gyeonggi-do</td>\n",
       "      <td>Gimpo-si</td>\n",
       "      <td>airport</td>\n",
       "      <td>37.615246</td>\n",
       "      <td>126.715632</td>\n",
       "    </tr>\n",
       "    <tr>\n",
       "      <th>1</th>\n",
       "      <td>1000000001</td>\n",
       "      <td>2.0</td>\n",
       "      <td>2020-01-24</td>\n",
       "      <td>Seoul</td>\n",
       "      <td>Jung-gu</td>\n",
       "      <td>hospital</td>\n",
       "      <td>37.567241</td>\n",
       "      <td>127.005659</td>\n",
       "    </tr>\n",
       "    <tr>\n",
       "      <th>2</th>\n",
       "      <td>1000000002</td>\n",
       "      <td>5.0</td>\n",
       "      <td>2020-01-25</td>\n",
       "      <td>Seoul</td>\n",
       "      <td>Seongbuk-gu</td>\n",
       "      <td>etc</td>\n",
       "      <td>37.592560</td>\n",
       "      <td>127.017048</td>\n",
       "    </tr>\n",
       "    <tr>\n",
       "      <th>3</th>\n",
       "      <td>1000000002</td>\n",
       "      <td>5.0</td>\n",
       "      <td>2020-01-26</td>\n",
       "      <td>Seoul</td>\n",
       "      <td>Seongbuk-gu</td>\n",
       "      <td>store</td>\n",
       "      <td>37.591810</td>\n",
       "      <td>127.016822</td>\n",
       "    </tr>\n",
       "    <tr>\n",
       "      <th>4</th>\n",
       "      <td>1000000002</td>\n",
       "      <td>5.0</td>\n",
       "      <td>2020-01-26</td>\n",
       "      <td>Seoul</td>\n",
       "      <td>Seongdong-gu</td>\n",
       "      <td>public_transportation</td>\n",
       "      <td>37.563992</td>\n",
       "      <td>127.029534</td>\n",
       "    </tr>\n",
       "  </tbody>\n",
       "</table>\n",
       "</div>"
      ],
      "text/plain": [
       "   patient_id  global_num        date     province          city  \\\n",
       "0  1000000001         2.0  2020-01-22  Gyeonggi-do      Gimpo-si   \n",
       "1  1000000001         2.0  2020-01-24        Seoul       Jung-gu   \n",
       "2  1000000002         5.0  2020-01-25        Seoul   Seongbuk-gu   \n",
       "3  1000000002         5.0  2020-01-26        Seoul   Seongbuk-gu   \n",
       "4  1000000002         5.0  2020-01-26        Seoul  Seongdong-gu   \n",
       "\n",
       "                    type   latitude   longitude  \n",
       "0                airport  37.615246  126.715632  \n",
       "1               hospital  37.567241  127.005659  \n",
       "2                    etc  37.592560  127.017048  \n",
       "3                  store  37.591810  127.016822  \n",
       "4  public_transportation  37.563992  127.029534  "
      ]
     },
     "execution_count": 4,
     "metadata": {},
     "output_type": "execute_result"
    }
   ],
   "source": [
    "df1.head()"
   ]
  },
  {
   "cell_type": "code",
   "execution_count": 5,
   "metadata": {},
   "outputs": [
    {
     "data": {
      "text/plain": [
       "(8092, 8)"
      ]
     },
     "execution_count": 5,
     "metadata": {},
     "output_type": "execute_result"
    }
   ],
   "source": [
    "df1.shape"
   ]
  },
  {
   "cell_type": "code",
   "execution_count": 6,
   "metadata": {},
   "outputs": [
    {
     "name": "stdout",
     "output_type": "stream",
     "text": [
      "<class 'pandas.core.frame.DataFrame'>\n",
      "RangeIndex: 8092 entries, 0 to 8091\n",
      "Data columns (total 8 columns):\n",
      " #   Column      Non-Null Count  Dtype  \n",
      "---  ------      --------------  -----  \n",
      " 0   patient_id  8092 non-null   int64  \n",
      " 1   global_num  4828 non-null   float64\n",
      " 2   date        8092 non-null   object \n",
      " 3   province    8092 non-null   object \n",
      " 4   city        8092 non-null   object \n",
      " 5   type        8092 non-null   object \n",
      " 6   latitude    8092 non-null   float64\n",
      " 7   longitude   8092 non-null   float64\n",
      "dtypes: float64(3), int64(1), object(4)\n",
      "memory usage: 505.9+ KB\n"
     ]
    }
   ],
   "source": [
    "df1.info()"
   ]
  },
  {
   "cell_type": "code",
   "execution_count": 7,
   "metadata": {},
   "outputs": [],
   "source": [
    "# 서울 유동인구 파일\n",
    "df2 = pd.read_csv('./data/SeoulFloating.csv', header='infer',encoding = 'latin1', na_values=[' '])"
   ]
  },
  {
   "cell_type": "code",
   "execution_count": 8,
   "metadata": {},
   "outputs": [
    {
     "data": {
      "text/html": [
       "<div>\n",
       "<style scoped>\n",
       "    .dataframe tbody tr th:only-of-type {\n",
       "        vertical-align: middle;\n",
       "    }\n",
       "\n",
       "    .dataframe tbody tr th {\n",
       "        vertical-align: top;\n",
       "    }\n",
       "\n",
       "    .dataframe thead th {\n",
       "        text-align: right;\n",
       "    }\n",
       "</style>\n",
       "<table border=\"1\" class=\"dataframe\">\n",
       "  <thead>\n",
       "    <tr style=\"text-align: right;\">\n",
       "      <th></th>\n",
       "      <th>date</th>\n",
       "      <th>hour</th>\n",
       "      <th>birth_year</th>\n",
       "      <th>sex</th>\n",
       "      <th>province</th>\n",
       "      <th>city</th>\n",
       "      <th>fp_num</th>\n",
       "    </tr>\n",
       "  </thead>\n",
       "  <tbody>\n",
       "    <tr>\n",
       "      <th>0</th>\n",
       "      <td>2020-01-01</td>\n",
       "      <td>0</td>\n",
       "      <td>20</td>\n",
       "      <td>female</td>\n",
       "      <td>Seoul</td>\n",
       "      <td>Dobong-gu</td>\n",
       "      <td>19140</td>\n",
       "    </tr>\n",
       "    <tr>\n",
       "      <th>1</th>\n",
       "      <td>2020-01-01</td>\n",
       "      <td>0</td>\n",
       "      <td>20</td>\n",
       "      <td>male</td>\n",
       "      <td>Seoul</td>\n",
       "      <td>Dobong-gu</td>\n",
       "      <td>19950</td>\n",
       "    </tr>\n",
       "    <tr>\n",
       "      <th>2</th>\n",
       "      <td>2020-01-01</td>\n",
       "      <td>0</td>\n",
       "      <td>20</td>\n",
       "      <td>female</td>\n",
       "      <td>Seoul</td>\n",
       "      <td>Dongdaemun-gu</td>\n",
       "      <td>25450</td>\n",
       "    </tr>\n",
       "    <tr>\n",
       "      <th>3</th>\n",
       "      <td>2020-01-01</td>\n",
       "      <td>0</td>\n",
       "      <td>20</td>\n",
       "      <td>male</td>\n",
       "      <td>Seoul</td>\n",
       "      <td>Dongdaemun-gu</td>\n",
       "      <td>27050</td>\n",
       "    </tr>\n",
       "    <tr>\n",
       "      <th>4</th>\n",
       "      <td>2020-01-01</td>\n",
       "      <td>0</td>\n",
       "      <td>20</td>\n",
       "      <td>female</td>\n",
       "      <td>Seoul</td>\n",
       "      <td>Dongjag-gu</td>\n",
       "      <td>28880</td>\n",
       "    </tr>\n",
       "  </tbody>\n",
       "</table>\n",
       "</div>"
      ],
      "text/plain": [
       "         date  hour  birth_year     sex province           city  fp_num\n",
       "0  2020-01-01     0          20  female    Seoul      Dobong-gu   19140\n",
       "1  2020-01-01     0          20    male    Seoul      Dobong-gu   19950\n",
       "2  2020-01-01     0          20  female    Seoul  Dongdaemun-gu   25450\n",
       "3  2020-01-01     0          20    male    Seoul  Dongdaemun-gu   27050\n",
       "4  2020-01-01     0          20  female    Seoul     Dongjag-gu   28880"
      ]
     },
     "execution_count": 8,
     "metadata": {},
     "output_type": "execute_result"
    }
   ],
   "source": [
    "df2.head()"
   ]
  },
  {
   "cell_type": "code",
   "execution_count": 9,
   "metadata": {},
   "outputs": [
    {
     "data": {
      "text/plain": [
       "(864000, 7)"
      ]
     },
     "execution_count": 9,
     "metadata": {},
     "output_type": "execute_result"
    }
   ],
   "source": [
    "df2.shape"
   ]
  },
  {
   "cell_type": "code",
   "execution_count": 10,
   "metadata": {},
   "outputs": [
    {
     "name": "stdout",
     "output_type": "stream",
     "text": [
      "<class 'pandas.core.frame.DataFrame'>\n",
      "RangeIndex: 864000 entries, 0 to 863999\n",
      "Data columns (total 7 columns):\n",
      " #   Column      Non-Null Count   Dtype \n",
      "---  ------      --------------   ----- \n",
      " 0   date        864000 non-null  object\n",
      " 1   hour        864000 non-null  int64 \n",
      " 2   birth_year  864000 non-null  int64 \n",
      " 3   sex         864000 non-null  object\n",
      " 4   province    864000 non-null  object\n",
      " 5   city        864000 non-null  object\n",
      " 6   fp_num      864000 non-null  int64 \n",
      "dtypes: int64(3), object(4)\n",
      "memory usage: 46.1+ MB\n"
     ]
    }
   ],
   "source": [
    "df2.info()"
   ]
  },
  {
   "cell_type": "code",
   "execution_count": 11,
   "metadata": {},
   "outputs": [],
   "source": [
    "# 이동 경로 지역이 서울인 데이터만 추출\n",
    "df1_seoul = df1[df1['province']=='Seoul']"
   ]
  },
  {
   "cell_type": "code",
   "execution_count": 12,
   "metadata": {},
   "outputs": [
    {
     "data": {
      "text/html": [
       "<div>\n",
       "<style scoped>\n",
       "    .dataframe tbody tr th:only-of-type {\n",
       "        vertical-align: middle;\n",
       "    }\n",
       "\n",
       "    .dataframe tbody tr th {\n",
       "        vertical-align: top;\n",
       "    }\n",
       "\n",
       "    .dataframe thead th {\n",
       "        text-align: right;\n",
       "    }\n",
       "</style>\n",
       "<table border=\"1\" class=\"dataframe\">\n",
       "  <thead>\n",
       "    <tr style=\"text-align: right;\">\n",
       "      <th></th>\n",
       "      <th>patient_id</th>\n",
       "      <th>global_num</th>\n",
       "      <th>date</th>\n",
       "      <th>province</th>\n",
       "      <th>city</th>\n",
       "      <th>type</th>\n",
       "      <th>latitude</th>\n",
       "      <th>longitude</th>\n",
       "    </tr>\n",
       "  </thead>\n",
       "  <tbody>\n",
       "    <tr>\n",
       "      <th>1</th>\n",
       "      <td>1000000001</td>\n",
       "      <td>2.0</td>\n",
       "      <td>2020-01-24</td>\n",
       "      <td>Seoul</td>\n",
       "      <td>Jung-gu</td>\n",
       "      <td>hospital</td>\n",
       "      <td>37.567241</td>\n",
       "      <td>127.005659</td>\n",
       "    </tr>\n",
       "    <tr>\n",
       "      <th>2</th>\n",
       "      <td>1000000002</td>\n",
       "      <td>5.0</td>\n",
       "      <td>2020-01-25</td>\n",
       "      <td>Seoul</td>\n",
       "      <td>Seongbuk-gu</td>\n",
       "      <td>etc</td>\n",
       "      <td>37.592560</td>\n",
       "      <td>127.017048</td>\n",
       "    </tr>\n",
       "    <tr>\n",
       "      <th>3</th>\n",
       "      <td>1000000002</td>\n",
       "      <td>5.0</td>\n",
       "      <td>2020-01-26</td>\n",
       "      <td>Seoul</td>\n",
       "      <td>Seongbuk-gu</td>\n",
       "      <td>store</td>\n",
       "      <td>37.591810</td>\n",
       "      <td>127.016822</td>\n",
       "    </tr>\n",
       "    <tr>\n",
       "      <th>4</th>\n",
       "      <td>1000000002</td>\n",
       "      <td>5.0</td>\n",
       "      <td>2020-01-26</td>\n",
       "      <td>Seoul</td>\n",
       "      <td>Seongdong-gu</td>\n",
       "      <td>public_transportation</td>\n",
       "      <td>37.563992</td>\n",
       "      <td>127.029534</td>\n",
       "    </tr>\n",
       "    <tr>\n",
       "      <th>5</th>\n",
       "      <td>1000000002</td>\n",
       "      <td>5.0</td>\n",
       "      <td>2020-01-26</td>\n",
       "      <td>Seoul</td>\n",
       "      <td>Seongbuk-gu</td>\n",
       "      <td>public_transportation</td>\n",
       "      <td>37.590330</td>\n",
       "      <td>127.015221</td>\n",
       "    </tr>\n",
       "  </tbody>\n",
       "</table>\n",
       "</div>"
      ],
      "text/plain": [
       "   patient_id  global_num        date province          city  \\\n",
       "1  1000000001         2.0  2020-01-24    Seoul       Jung-gu   \n",
       "2  1000000002         5.0  2020-01-25    Seoul   Seongbuk-gu   \n",
       "3  1000000002         5.0  2020-01-26    Seoul   Seongbuk-gu   \n",
       "4  1000000002         5.0  2020-01-26    Seoul  Seongdong-gu   \n",
       "5  1000000002         5.0  2020-01-26    Seoul   Seongbuk-gu   \n",
       "\n",
       "                    type   latitude   longitude  \n",
       "1               hospital  37.567241  127.005659  \n",
       "2                    etc  37.592560  127.017048  \n",
       "3                  store  37.591810  127.016822  \n",
       "4  public_transportation  37.563992  127.029534  \n",
       "5  public_transportation  37.590330  127.015221  "
      ]
     },
     "execution_count": 12,
     "metadata": {},
     "output_type": "execute_result"
    }
   ],
   "source": [
    "df1_seoul.head()"
   ]
  },
  {
   "cell_type": "code",
   "execution_count": 13,
   "metadata": {},
   "outputs": [
    {
     "data": {
      "text/plain": [
       "(3675, 8)"
      ]
     },
     "execution_count": 13,
     "metadata": {},
     "output_type": "execute_result"
    }
   ],
   "source": [
    "df1_seoul.shape"
   ]
  },
  {
   "cell_type": "code",
   "execution_count": 14,
   "metadata": {},
   "outputs": [
    {
     "name": "stdout",
     "output_type": "stream",
     "text": [
      "<class 'pandas.core.frame.DataFrame'>\n",
      "Int64Index: 3675 entries, 1 to 8087\n",
      "Data columns (total 8 columns):\n",
      " #   Column      Non-Null Count  Dtype  \n",
      "---  ------      --------------  -----  \n",
      " 0   patient_id  3675 non-null   int64  \n",
      " 1   global_num  3581 non-null   float64\n",
      " 2   date        3675 non-null   object \n",
      " 3   province    3675 non-null   object \n",
      " 4   city        3675 non-null   object \n",
      " 5   type        3675 non-null   object \n",
      " 6   latitude    3675 non-null   float64\n",
      " 7   longitude   3675 non-null   float64\n",
      "dtypes: float64(3), int64(1), object(4)\n",
      "memory usage: 258.4+ KB\n"
     ]
    }
   ],
   "source": [
    "df1_seoul.info()"
   ]
  },
  {
   "cell_type": "code",
   "execution_count": 15,
   "metadata": {},
   "outputs": [],
   "source": [
    "# 서울 유동인구의 시작 날짜 조정(비교를 위해)\n",
    "df2_date = df2[df2['date'] >= df1_seoul.iloc[0, 2]]"
   ]
  },
  {
   "cell_type": "code",
   "execution_count": 16,
   "metadata": {},
   "outputs": [
    {
     "data": {
      "text/html": [
       "<div>\n",
       "<style scoped>\n",
       "    .dataframe tbody tr th:only-of-type {\n",
       "        vertical-align: middle;\n",
       "    }\n",
       "\n",
       "    .dataframe tbody tr th {\n",
       "        vertical-align: top;\n",
       "    }\n",
       "\n",
       "    .dataframe thead th {\n",
       "        text-align: right;\n",
       "    }\n",
       "</style>\n",
       "<table border=\"1\" class=\"dataframe\">\n",
       "  <thead>\n",
       "    <tr style=\"text-align: right;\">\n",
       "      <th></th>\n",
       "      <th>date</th>\n",
       "      <th>hour</th>\n",
       "      <th>birth_year</th>\n",
       "      <th>sex</th>\n",
       "      <th>province</th>\n",
       "      <th>city</th>\n",
       "      <th>fp_num</th>\n",
       "    </tr>\n",
       "  </thead>\n",
       "  <tbody>\n",
       "    <tr>\n",
       "      <th>0</th>\n",
       "      <td>2020-01-24</td>\n",
       "      <td>0</td>\n",
       "      <td>20</td>\n",
       "      <td>female</td>\n",
       "      <td>Seoul</td>\n",
       "      <td>Dobong-gu</td>\n",
       "      <td>20140</td>\n",
       "    </tr>\n",
       "    <tr>\n",
       "      <th>1</th>\n",
       "      <td>2020-01-24</td>\n",
       "      <td>0</td>\n",
       "      <td>20</td>\n",
       "      <td>male</td>\n",
       "      <td>Seoul</td>\n",
       "      <td>Dobong-gu</td>\n",
       "      <td>21410</td>\n",
       "    </tr>\n",
       "    <tr>\n",
       "      <th>2</th>\n",
       "      <td>2020-01-24</td>\n",
       "      <td>0</td>\n",
       "      <td>20</td>\n",
       "      <td>female</td>\n",
       "      <td>Seoul</td>\n",
       "      <td>Dongdaemun-gu</td>\n",
       "      <td>21900</td>\n",
       "    </tr>\n",
       "    <tr>\n",
       "      <th>3</th>\n",
       "      <td>2020-01-24</td>\n",
       "      <td>0</td>\n",
       "      <td>20</td>\n",
       "      <td>male</td>\n",
       "      <td>Seoul</td>\n",
       "      <td>Dongdaemun-gu</td>\n",
       "      <td>24230</td>\n",
       "    </tr>\n",
       "    <tr>\n",
       "      <th>4</th>\n",
       "      <td>2020-01-24</td>\n",
       "      <td>0</td>\n",
       "      <td>20</td>\n",
       "      <td>female</td>\n",
       "      <td>Seoul</td>\n",
       "      <td>Dongjag-gu</td>\n",
       "      <td>26230</td>\n",
       "    </tr>\n",
       "  </tbody>\n",
       "</table>\n",
       "</div>"
      ],
      "text/plain": [
       "         date  hour  birth_year     sex province           city  fp_num\n",
       "0  2020-01-24     0          20  female    Seoul      Dobong-gu   20140\n",
       "1  2020-01-24     0          20    male    Seoul      Dobong-gu   21410\n",
       "2  2020-01-24     0          20  female    Seoul  Dongdaemun-gu   21900\n",
       "3  2020-01-24     0          20    male    Seoul  Dongdaemun-gu   24230\n",
       "4  2020-01-24     0          20  female    Seoul     Dongjag-gu   26230"
      ]
     },
     "execution_count": 16,
     "metadata": {},
     "output_type": "execute_result"
    }
   ],
   "source": [
    "df2_date.head().reset_index(drop=True)"
   ]
  },
  {
   "cell_type": "code",
   "execution_count": 17,
   "metadata": {},
   "outputs": [
    {
     "data": {
      "text/plain": [
       "(698400, 7)"
      ]
     },
     "execution_count": 17,
     "metadata": {},
     "output_type": "execute_result"
    }
   ],
   "source": [
    "df2_date.shape"
   ]
  },
  {
   "cell_type": "code",
   "execution_count": 18,
   "metadata": {},
   "outputs": [
    {
     "name": "stdout",
     "output_type": "stream",
     "text": [
      "<class 'pandas.core.frame.DataFrame'>\n",
      "Int64Index: 698400 entries, 165600 to 863999\n",
      "Data columns (total 7 columns):\n",
      " #   Column      Non-Null Count   Dtype \n",
      "---  ------      --------------   ----- \n",
      " 0   date        698400 non-null  object\n",
      " 1   hour        698400 non-null  int64 \n",
      " 2   birth_year  698400 non-null  int64 \n",
      " 3   sex         698400 non-null  object\n",
      " 4   province    698400 non-null  object\n",
      " 5   city        698400 non-null  object\n",
      " 6   fp_num      698400 non-null  int64 \n",
      "dtypes: int64(3), object(4)\n",
      "memory usage: 42.6+ MB\n"
     ]
    }
   ],
   "source": [
    "df2_date.info()"
   ]
  },
  {
   "cell_type": "code",
   "execution_count": 19,
   "metadata": {},
   "outputs": [],
   "source": [
    "# 이동 경로가 서울인 데이터의 끝 날짜 조정(비교를 위해)\n",
    "df1_seoul_date = df1_seoul[df1_seoul['date'] <= df2_date.iloc[-1,0]].sort_values(by=['date'], axis=0, ascending=True).reset_index(drop=True)"
   ]
  },
  {
   "cell_type": "code",
   "execution_count": 20,
   "metadata": {},
   "outputs": [
    {
     "data": {
      "text/html": [
       "<div>\n",
       "<style scoped>\n",
       "    .dataframe tbody tr th:only-of-type {\n",
       "        vertical-align: middle;\n",
       "    }\n",
       "\n",
       "    .dataframe tbody tr th {\n",
       "        vertical-align: top;\n",
       "    }\n",
       "\n",
       "    .dataframe thead th {\n",
       "        text-align: right;\n",
       "    }\n",
       "</style>\n",
       "<table border=\"1\" class=\"dataframe\">\n",
       "  <thead>\n",
       "    <tr style=\"text-align: right;\">\n",
       "      <th></th>\n",
       "      <th>patient_id</th>\n",
       "      <th>global_num</th>\n",
       "      <th>date</th>\n",
       "      <th>province</th>\n",
       "      <th>city</th>\n",
       "      <th>type</th>\n",
       "      <th>latitude</th>\n",
       "      <th>longitude</th>\n",
       "    </tr>\n",
       "  </thead>\n",
       "  <tbody>\n",
       "    <tr>\n",
       "      <th>2657</th>\n",
       "      <td>1000000638</td>\n",
       "      <td>10833.0</td>\n",
       "      <td>2020-04-30</td>\n",
       "      <td>Seoul</td>\n",
       "      <td>Jongno-gu</td>\n",
       "      <td>store</td>\n",
       "      <td>37.574279</td>\n",
       "      <td>126.989835</td>\n",
       "    </tr>\n",
       "    <tr>\n",
       "      <th>2658</th>\n",
       "      <td>1000000712</td>\n",
       "      <td>10995.0</td>\n",
       "      <td>2020-04-30</td>\n",
       "      <td>Seoul</td>\n",
       "      <td>Yeongdeungpo-gu</td>\n",
       "      <td>etc</td>\n",
       "      <td>37.539111</td>\n",
       "      <td>126.903394</td>\n",
       "    </tr>\n",
       "    <tr>\n",
       "      <th>2659</th>\n",
       "      <td>1000000638</td>\n",
       "      <td>10833.0</td>\n",
       "      <td>2020-04-30</td>\n",
       "      <td>Seoul</td>\n",
       "      <td>Jongno-gu</td>\n",
       "      <td>pc_cafe</td>\n",
       "      <td>37.572950</td>\n",
       "      <td>126.979358</td>\n",
       "    </tr>\n",
       "    <tr>\n",
       "      <th>2660</th>\n",
       "      <td>1000000713</td>\n",
       "      <td>11013.0</td>\n",
       "      <td>2020-04-30</td>\n",
       "      <td>Seoul</td>\n",
       "      <td>Yeongdeungpo-gu</td>\n",
       "      <td>etc</td>\n",
       "      <td>37.539111</td>\n",
       "      <td>126.903394</td>\n",
       "    </tr>\n",
       "    <tr>\n",
       "      <th>2661</th>\n",
       "      <td>1000000634</td>\n",
       "      <td>10771.0</td>\n",
       "      <td>2020-04-30</td>\n",
       "      <td>Seoul</td>\n",
       "      <td>Yangcheon-gu</td>\n",
       "      <td>hospital</td>\n",
       "      <td>37.511972</td>\n",
       "      <td>126.833222</td>\n",
       "    </tr>\n",
       "  </tbody>\n",
       "</table>\n",
       "</div>"
      ],
      "text/plain": [
       "      patient_id  global_num        date province             city      type  \\\n",
       "2657  1000000638     10833.0  2020-04-30    Seoul        Jongno-gu     store   \n",
       "2658  1000000712     10995.0  2020-04-30    Seoul  Yeongdeungpo-gu       etc   \n",
       "2659  1000000638     10833.0  2020-04-30    Seoul        Jongno-gu   pc_cafe   \n",
       "2660  1000000713     11013.0  2020-04-30    Seoul  Yeongdeungpo-gu       etc   \n",
       "2661  1000000634     10771.0  2020-04-30    Seoul     Yangcheon-gu  hospital   \n",
       "\n",
       "       latitude   longitude  \n",
       "2657  37.574279  126.989835  \n",
       "2658  37.539111  126.903394  \n",
       "2659  37.572950  126.979358  \n",
       "2660  37.539111  126.903394  \n",
       "2661  37.511972  126.833222  "
      ]
     },
     "execution_count": 20,
     "metadata": {},
     "output_type": "execute_result"
    }
   ],
   "source": [
    "df1_seoul_date.tail()"
   ]
  },
  {
   "cell_type": "code",
   "execution_count": 21,
   "metadata": {},
   "outputs": [
    {
     "data": {
      "text/plain": [
       "(2662, 8)"
      ]
     },
     "execution_count": 21,
     "metadata": {},
     "output_type": "execute_result"
    }
   ],
   "source": [
    "df1_seoul_date.shape"
   ]
  },
  {
   "cell_type": "code",
   "execution_count": 22,
   "metadata": {},
   "outputs": [
    {
     "name": "stdout",
     "output_type": "stream",
     "text": [
      "<class 'pandas.core.frame.DataFrame'>\n",
      "RangeIndex: 2662 entries, 0 to 2661\n",
      "Data columns (total 8 columns):\n",
      " #   Column      Non-Null Count  Dtype  \n",
      "---  ------      --------------  -----  \n",
      " 0   patient_id  2662 non-null   int64  \n",
      " 1   global_num  2574 non-null   float64\n",
      " 2   date        2662 non-null   object \n",
      " 3   province    2662 non-null   object \n",
      " 4   city        2662 non-null   object \n",
      " 5   type        2662 non-null   object \n",
      " 6   latitude    2662 non-null   float64\n",
      " 7   longitude   2662 non-null   float64\n",
      "dtypes: float64(3), int64(1), object(4)\n",
      "memory usage: 166.5+ KB\n"
     ]
    }
   ],
   "source": [
    "df1_seoul_date.info()"
   ]
  },
  {
   "cell_type": "code",
   "execution_count": 23,
   "metadata": {},
   "outputs": [],
   "source": [
    "# 이동경로가 서울인 데이터 프레임의 인덱스 조정(병합을 위해)\n",
    "df1_seoul_date = df1_seoul_date.set_index(['province', 'city', 'date'])"
   ]
  },
  {
   "cell_type": "code",
   "execution_count": 24,
   "metadata": {},
   "outputs": [
    {
     "data": {
      "text/html": [
       "<div>\n",
       "<style scoped>\n",
       "    .dataframe tbody tr th:only-of-type {\n",
       "        vertical-align: middle;\n",
       "    }\n",
       "\n",
       "    .dataframe tbody tr th {\n",
       "        vertical-align: top;\n",
       "    }\n",
       "\n",
       "    .dataframe thead th {\n",
       "        text-align: right;\n",
       "    }\n",
       "</style>\n",
       "<table border=\"1\" class=\"dataframe\">\n",
       "  <thead>\n",
       "    <tr style=\"text-align: right;\">\n",
       "      <th></th>\n",
       "      <th></th>\n",
       "      <th></th>\n",
       "      <th>patient_id</th>\n",
       "      <th>global_num</th>\n",
       "      <th>type</th>\n",
       "      <th>latitude</th>\n",
       "      <th>longitude</th>\n",
       "    </tr>\n",
       "    <tr>\n",
       "      <th>province</th>\n",
       "      <th>city</th>\n",
       "      <th>date</th>\n",
       "      <th></th>\n",
       "      <th></th>\n",
       "      <th></th>\n",
       "      <th></th>\n",
       "      <th></th>\n",
       "    </tr>\n",
       "  </thead>\n",
       "  <tbody>\n",
       "    <tr>\n",
       "      <th rowspan=\"5\" valign=\"top\">Seoul</th>\n",
       "      <th>Gangnam-gu</th>\n",
       "      <th>2020-01-22</th>\n",
       "      <td>2000000001</td>\n",
       "      <td>3.0</td>\n",
       "      <td>hospital</td>\n",
       "      <td>37.524355</td>\n",
       "      <td>127.027948</td>\n",
       "    </tr>\n",
       "    <tr>\n",
       "      <th>Yongsan-gu</th>\n",
       "      <th>2020-01-23</th>\n",
       "      <td>1400000003</td>\n",
       "      <td>1129.0</td>\n",
       "      <td>etc</td>\n",
       "      <td>37.536606</td>\n",
       "      <td>126.977140</td>\n",
       "    </tr>\n",
       "    <tr>\n",
       "      <th>Gangnam-gu</th>\n",
       "      <th>2020-01-23</th>\n",
       "      <td>2000000001</td>\n",
       "      <td>3.0</td>\n",
       "      <td>store</td>\n",
       "      <td>37.527752</td>\n",
       "      <td>127.019480</td>\n",
       "    </tr>\n",
       "    <tr>\n",
       "      <th>Jung-gu</th>\n",
       "      <th>2020-01-24</th>\n",
       "      <td>1000000001</td>\n",
       "      <td>2.0</td>\n",
       "      <td>hospital</td>\n",
       "      <td>37.567241</td>\n",
       "      <td>127.005659</td>\n",
       "    </tr>\n",
       "    <tr>\n",
       "      <th>Jongno-gu</th>\n",
       "      <th>2020-01-24</th>\n",
       "      <td>1400000003</td>\n",
       "      <td>1129.0</td>\n",
       "      <td>etc</td>\n",
       "      <td>37.579617</td>\n",
       "      <td>126.977041</td>\n",
       "    </tr>\n",
       "  </tbody>\n",
       "</table>\n",
       "</div>"
      ],
      "text/plain": [
       "                                patient_id  global_num      type   latitude  \\\n",
       "province city       date                                                      \n",
       "Seoul    Gangnam-gu 2020-01-22  2000000001         3.0  hospital  37.524355   \n",
       "         Yongsan-gu 2020-01-23  1400000003      1129.0       etc  37.536606   \n",
       "         Gangnam-gu 2020-01-23  2000000001         3.0     store  37.527752   \n",
       "         Jung-gu    2020-01-24  1000000001         2.0  hospital  37.567241   \n",
       "         Jongno-gu  2020-01-24  1400000003      1129.0       etc  37.579617   \n",
       "\n",
       "                                 longitude  \n",
       "province city       date                    \n",
       "Seoul    Gangnam-gu 2020-01-22  127.027948  \n",
       "         Yongsan-gu 2020-01-23  126.977140  \n",
       "         Gangnam-gu 2020-01-23  127.019480  \n",
       "         Jung-gu    2020-01-24  127.005659  \n",
       "         Jongno-gu  2020-01-24  126.977041  "
      ]
     },
     "execution_count": 24,
     "metadata": {},
     "output_type": "execute_result"
    }
   ],
   "source": [
    "df1_seoul_date.head()"
   ]
  },
  {
   "cell_type": "code",
   "execution_count": 25,
   "metadata": {},
   "outputs": [],
   "source": [
    "# 이동경로가 서울인 데이터 프레임에서 특정 열만 추출 그리고 인덱스 초기화\n",
    "df1_seoul_date = df1_seoul_date[['patient_id', 'global_num']].reset_index()"
   ]
  },
  {
   "cell_type": "code",
   "execution_count": 26,
   "metadata": {},
   "outputs": [
    {
     "data": {
      "text/html": [
       "<div>\n",
       "<style scoped>\n",
       "    .dataframe tbody tr th:only-of-type {\n",
       "        vertical-align: middle;\n",
       "    }\n",
       "\n",
       "    .dataframe tbody tr th {\n",
       "        vertical-align: top;\n",
       "    }\n",
       "\n",
       "    .dataframe thead th {\n",
       "        text-align: right;\n",
       "    }\n",
       "</style>\n",
       "<table border=\"1\" class=\"dataframe\">\n",
       "  <thead>\n",
       "    <tr style=\"text-align: right;\">\n",
       "      <th></th>\n",
       "      <th>province</th>\n",
       "      <th>city</th>\n",
       "      <th>date</th>\n",
       "      <th>patient_id</th>\n",
       "      <th>global_num</th>\n",
       "    </tr>\n",
       "  </thead>\n",
       "  <tbody>\n",
       "    <tr>\n",
       "      <th>0</th>\n",
       "      <td>Seoul</td>\n",
       "      <td>Gangnam-gu</td>\n",
       "      <td>2020-01-22</td>\n",
       "      <td>2000000001</td>\n",
       "      <td>3.0</td>\n",
       "    </tr>\n",
       "    <tr>\n",
       "      <th>1</th>\n",
       "      <td>Seoul</td>\n",
       "      <td>Yongsan-gu</td>\n",
       "      <td>2020-01-23</td>\n",
       "      <td>1400000003</td>\n",
       "      <td>1129.0</td>\n",
       "    </tr>\n",
       "    <tr>\n",
       "      <th>2</th>\n",
       "      <td>Seoul</td>\n",
       "      <td>Gangnam-gu</td>\n",
       "      <td>2020-01-23</td>\n",
       "      <td>2000000001</td>\n",
       "      <td>3.0</td>\n",
       "    </tr>\n",
       "    <tr>\n",
       "      <th>3</th>\n",
       "      <td>Seoul</td>\n",
       "      <td>Jung-gu</td>\n",
       "      <td>2020-01-24</td>\n",
       "      <td>1000000001</td>\n",
       "      <td>2.0</td>\n",
       "    </tr>\n",
       "    <tr>\n",
       "      <th>4</th>\n",
       "      <td>Seoul</td>\n",
       "      <td>Jongno-gu</td>\n",
       "      <td>2020-01-24</td>\n",
       "      <td>1400000003</td>\n",
       "      <td>1129.0</td>\n",
       "    </tr>\n",
       "  </tbody>\n",
       "</table>\n",
       "</div>"
      ],
      "text/plain": [
       "  province        city        date  patient_id  global_num\n",
       "0    Seoul  Gangnam-gu  2020-01-22  2000000001         3.0\n",
       "1    Seoul  Yongsan-gu  2020-01-23  1400000003      1129.0\n",
       "2    Seoul  Gangnam-gu  2020-01-23  2000000001         3.0\n",
       "3    Seoul     Jung-gu  2020-01-24  1000000001         2.0\n",
       "4    Seoul   Jongno-gu  2020-01-24  1400000003      1129.0"
      ]
     },
     "execution_count": 26,
     "metadata": {},
     "output_type": "execute_result"
    }
   ],
   "source": [
    "df1_seoul_date.head()"
   ]
  },
  {
   "cell_type": "code",
   "execution_count": 27,
   "metadata": {},
   "outputs": [],
   "source": [
    "# 서울 특정 구의 해당 날짜의 유동인구의 평균을 구하기 위해 그룹핑, 그리고 필요한 열만 추출 후 인덱스 초기화\n",
    "df2_date_groupby = df2_date.groupby(['province', 'city', 'date'])[['fp_num']].mean().reset_index()"
   ]
  },
  {
   "cell_type": "code",
   "execution_count": 28,
   "metadata": {},
   "outputs": [
    {
     "data": {
      "text/html": [
       "<div>\n",
       "<style scoped>\n",
       "    .dataframe tbody tr th:only-of-type {\n",
       "        vertical-align: middle;\n",
       "    }\n",
       "\n",
       "    .dataframe tbody tr th {\n",
       "        vertical-align: top;\n",
       "    }\n",
       "\n",
       "    .dataframe thead th {\n",
       "        text-align: right;\n",
       "    }\n",
       "</style>\n",
       "<table border=\"1\" class=\"dataframe\">\n",
       "  <thead>\n",
       "    <tr style=\"text-align: right;\">\n",
       "      <th></th>\n",
       "      <th>province</th>\n",
       "      <th>city</th>\n",
       "      <th>date</th>\n",
       "      <th>fp_num</th>\n",
       "    </tr>\n",
       "  </thead>\n",
       "  <tbody>\n",
       "    <tr>\n",
       "      <th>0</th>\n",
       "      <td>Seoul</td>\n",
       "      <td>Dobong-gu</td>\n",
       "      <td>2020-01-24</td>\n",
       "      <td>21371.666667</td>\n",
       "    </tr>\n",
       "    <tr>\n",
       "      <th>1</th>\n",
       "      <td>Seoul</td>\n",
       "      <td>Dobong-gu</td>\n",
       "      <td>2020-01-25</td>\n",
       "      <td>21384.340278</td>\n",
       "    </tr>\n",
       "    <tr>\n",
       "      <th>2</th>\n",
       "      <td>Seoul</td>\n",
       "      <td>Dobong-gu</td>\n",
       "      <td>2020-01-26</td>\n",
       "      <td>21156.736111</td>\n",
       "    </tr>\n",
       "    <tr>\n",
       "      <th>3</th>\n",
       "      <td>Seoul</td>\n",
       "      <td>Dobong-gu</td>\n",
       "      <td>2020-01-27</td>\n",
       "      <td>21507.708333</td>\n",
       "    </tr>\n",
       "    <tr>\n",
       "      <th>4</th>\n",
       "      <td>Seoul</td>\n",
       "      <td>Dobong-gu</td>\n",
       "      <td>2020-01-28</td>\n",
       "      <td>19748.506944</td>\n",
       "    </tr>\n",
       "  </tbody>\n",
       "</table>\n",
       "</div>"
      ],
      "text/plain": [
       "  province       city        date        fp_num\n",
       "0    Seoul  Dobong-gu  2020-01-24  21371.666667\n",
       "1    Seoul  Dobong-gu  2020-01-25  21384.340278\n",
       "2    Seoul  Dobong-gu  2020-01-26  21156.736111\n",
       "3    Seoul  Dobong-gu  2020-01-27  21507.708333\n",
       "4    Seoul  Dobong-gu  2020-01-28  19748.506944"
      ]
     },
     "execution_count": 28,
     "metadata": {},
     "output_type": "execute_result"
    }
   ],
   "source": [
    "df2_date_groupby.head()"
   ]
  },
  {
   "cell_type": "code",
   "execution_count": 29,
   "metadata": {},
   "outputs": [],
   "source": [
    "# 이동 경로가 서울인 데이터 프레임과 서울 일일 유동인구 데이터 프레임 합침\n",
    "df_merge = pd.merge(df1_seoul_date, df2_date_groupby)"
   ]
  },
  {
   "cell_type": "code",
   "execution_count": 30,
   "metadata": {},
   "outputs": [
    {
     "data": {
      "text/html": [
       "<div>\n",
       "<style scoped>\n",
       "    .dataframe tbody tr th:only-of-type {\n",
       "        vertical-align: middle;\n",
       "    }\n",
       "\n",
       "    .dataframe tbody tr th {\n",
       "        vertical-align: top;\n",
       "    }\n",
       "\n",
       "    .dataframe thead th {\n",
       "        text-align: right;\n",
       "    }\n",
       "</style>\n",
       "<table border=\"1\" class=\"dataframe\">\n",
       "  <thead>\n",
       "    <tr style=\"text-align: right;\">\n",
       "      <th></th>\n",
       "      <th>province</th>\n",
       "      <th>city</th>\n",
       "      <th>date</th>\n",
       "      <th>patient_id</th>\n",
       "      <th>global_num</th>\n",
       "      <th>fp_num</th>\n",
       "    </tr>\n",
       "  </thead>\n",
       "  <tbody>\n",
       "    <tr>\n",
       "      <th>0</th>\n",
       "      <td>Seoul</td>\n",
       "      <td>Jung-gu</td>\n",
       "      <td>2020-01-24</td>\n",
       "      <td>1000000001</td>\n",
       "      <td>2.0</td>\n",
       "      <td>10391.215278</td>\n",
       "    </tr>\n",
       "    <tr>\n",
       "      <th>1</th>\n",
       "      <td>Seoul</td>\n",
       "      <td>Jongno-gu</td>\n",
       "      <td>2020-01-24</td>\n",
       "      <td>1400000003</td>\n",
       "      <td>1129.0</td>\n",
       "      <td>12305.798611</td>\n",
       "    </tr>\n",
       "    <tr>\n",
       "      <th>2</th>\n",
       "      <td>Seoul</td>\n",
       "      <td>Seongbuk-gu</td>\n",
       "      <td>2020-01-25</td>\n",
       "      <td>1000000002</td>\n",
       "      <td>5.0</td>\n",
       "      <td>26674.375000</td>\n",
       "    </tr>\n",
       "    <tr>\n",
       "      <th>3</th>\n",
       "      <td>Seoul</td>\n",
       "      <td>Yongsan-gu</td>\n",
       "      <td>2020-01-25</td>\n",
       "      <td>1400000003</td>\n",
       "      <td>1129.0</td>\n",
       "      <td>14381.493056</td>\n",
       "    </tr>\n",
       "    <tr>\n",
       "      <th>4</th>\n",
       "      <td>Seoul</td>\n",
       "      <td>Gangnam-gu</td>\n",
       "      <td>2020-01-25</td>\n",
       "      <td>2000000006</td>\n",
       "      <td>17.0</td>\n",
       "      <td>29110.763889</td>\n",
       "    </tr>\n",
       "  </tbody>\n",
       "</table>\n",
       "</div>"
      ],
      "text/plain": [
       "  province         city        date  patient_id  global_num        fp_num\n",
       "0    Seoul      Jung-gu  2020-01-24  1000000001         2.0  10391.215278\n",
       "1    Seoul    Jongno-gu  2020-01-24  1400000003      1129.0  12305.798611\n",
       "2    Seoul  Seongbuk-gu  2020-01-25  1000000002         5.0  26674.375000\n",
       "3    Seoul   Yongsan-gu  2020-01-25  1400000003      1129.0  14381.493056\n",
       "4    Seoul   Gangnam-gu  2020-01-25  2000000006        17.0  29110.763889"
      ]
     },
     "execution_count": 30,
     "metadata": {},
     "output_type": "execute_result"
    }
   ],
   "source": [
    "df_merge.head()"
   ]
  },
  {
   "cell_type": "code",
   "execution_count": 31,
   "metadata": {},
   "outputs": [
    {
     "data": {
      "text/plain": [
       "(2394, 6)"
      ]
     },
     "execution_count": 31,
     "metadata": {},
     "output_type": "execute_result"
    }
   ],
   "source": [
    "df_merge.shape"
   ]
  },
  {
   "cell_type": "code",
   "execution_count": 32,
   "metadata": {},
   "outputs": [
    {
     "name": "stdout",
     "output_type": "stream",
     "text": [
      "<class 'pandas.core.frame.DataFrame'>\n",
      "Int64Index: 2394 entries, 0 to 2393\n",
      "Data columns (total 6 columns):\n",
      " #   Column      Non-Null Count  Dtype  \n",
      "---  ------      --------------  -----  \n",
      " 0   province    2394 non-null   object \n",
      " 1   city        2394 non-null   object \n",
      " 2   date        2394 non-null   object \n",
      " 3   patient_id  2394 non-null   int64  \n",
      " 4   global_num  2314 non-null   float64\n",
      " 5   fp_num      2394 non-null   float64\n",
      "dtypes: float64(2), int64(1), object(3)\n",
      "memory usage: 130.9+ KB\n"
     ]
    }
   ],
   "source": [
    "df_merge.info()"
   ]
  },
  {
   "cell_type": "code",
   "execution_count": 33,
   "metadata": {},
   "outputs": [],
   "source": [
    "# 일일 확진자 수를 계산하기 위한 count\n",
    "df_merge_copy = df_merge.copy()"
   ]
  },
  {
   "cell_type": "code",
   "execution_count": 34,
   "metadata": {},
   "outputs": [
    {
     "data": {
      "text/plain": [
       "(2394, 6)"
      ]
     },
     "execution_count": 34,
     "metadata": {},
     "output_type": "execute_result"
    }
   ],
   "source": [
    "df_merge_copy.shape"
   ]
  },
  {
   "cell_type": "code",
   "execution_count": 35,
   "metadata": {},
   "outputs": [],
   "source": [
    "# 서울 일일 유동인구의 평균 구함\n",
    "df_merge_groupby = df_merge.groupby('date')[['fp_num']].mean()"
   ]
  },
  {
   "cell_type": "code",
   "execution_count": 36,
   "metadata": {},
   "outputs": [
    {
     "data": {
      "text/html": [
       "<div>\n",
       "<style scoped>\n",
       "    .dataframe tbody tr th:only-of-type {\n",
       "        vertical-align: middle;\n",
       "    }\n",
       "\n",
       "    .dataframe tbody tr th {\n",
       "        vertical-align: top;\n",
       "    }\n",
       "\n",
       "    .dataframe thead th {\n",
       "        text-align: right;\n",
       "    }\n",
       "</style>\n",
       "<table border=\"1\" class=\"dataframe\">\n",
       "  <thead>\n",
       "    <tr style=\"text-align: right;\">\n",
       "      <th></th>\n",
       "      <th>fp_num</th>\n",
       "    </tr>\n",
       "    <tr>\n",
       "      <th>date</th>\n",
       "      <th></th>\n",
       "    </tr>\n",
       "  </thead>\n",
       "  <tbody>\n",
       "    <tr>\n",
       "      <th>2020-01-24</th>\n",
       "      <td>11348.506944</td>\n",
       "    </tr>\n",
       "    <tr>\n",
       "      <th>2020-01-25</th>\n",
       "      <td>22692.277778</td>\n",
       "    </tr>\n",
       "    <tr>\n",
       "      <th>2020-01-26</th>\n",
       "      <td>18719.583333</td>\n",
       "    </tr>\n",
       "    <tr>\n",
       "      <th>2020-01-27</th>\n",
       "      <td>25696.805556</td>\n",
       "    </tr>\n",
       "    <tr>\n",
       "      <th>2020-01-28</th>\n",
       "      <td>32301.276042</td>\n",
       "    </tr>\n",
       "  </tbody>\n",
       "</table>\n",
       "</div>"
      ],
      "text/plain": [
       "                  fp_num\n",
       "date                    \n",
       "2020-01-24  11348.506944\n",
       "2020-01-25  22692.277778\n",
       "2020-01-26  18719.583333\n",
       "2020-01-27  25696.805556\n",
       "2020-01-28  32301.276042"
      ]
     },
     "execution_count": 36,
     "metadata": {},
     "output_type": "execute_result"
    }
   ],
   "source": [
    "df_merge_groupby.head()"
   ]
  },
  {
   "cell_type": "code",
   "execution_count": 37,
   "metadata": {},
   "outputs": [],
   "source": [
    "# 일일 확진자 수를 계산하여 count 열에 입력\n",
    "df_merge_groupby['count'] = df_merge['date'].value_counts().sort_index()"
   ]
  },
  {
   "cell_type": "code",
   "execution_count": 38,
   "metadata": {},
   "outputs": [],
   "source": [
    "df_merge_groupby = df_merge_groupby.reset_index()"
   ]
  },
  {
   "cell_type": "code",
   "execution_count": 50,
   "metadata": {},
   "outputs": [
    {
     "data": {
      "text/html": [
       "<div>\n",
       "<style scoped>\n",
       "    .dataframe tbody tr th:only-of-type {\n",
       "        vertical-align: middle;\n",
       "    }\n",
       "\n",
       "    .dataframe tbody tr th {\n",
       "        vertical-align: top;\n",
       "    }\n",
       "\n",
       "    .dataframe thead th {\n",
       "        text-align: right;\n",
       "    }\n",
       "</style>\n",
       "<table border=\"1\" class=\"dataframe\">\n",
       "  <thead>\n",
       "    <tr style=\"text-align: right;\">\n",
       "      <th></th>\n",
       "      <th>date</th>\n",
       "      <th>fp_num</th>\n",
       "      <th>count</th>\n",
       "    </tr>\n",
       "  </thead>\n",
       "  <tbody>\n",
       "    <tr>\n",
       "      <th>0</th>\n",
       "      <td>2020-01-24</td>\n",
       "      <td>11348.506944</td>\n",
       "      <td>2</td>\n",
       "    </tr>\n",
       "    <tr>\n",
       "      <th>1</th>\n",
       "      <td>2020-01-25</td>\n",
       "      <td>22692.277778</td>\n",
       "      <td>5</td>\n",
       "    </tr>\n",
       "    <tr>\n",
       "      <th>2</th>\n",
       "      <td>2020-01-26</td>\n",
       "      <td>18719.583333</td>\n",
       "      <td>8</td>\n",
       "    </tr>\n",
       "    <tr>\n",
       "      <th>3</th>\n",
       "      <td>2020-01-27</td>\n",
       "      <td>25696.805556</td>\n",
       "      <td>2</td>\n",
       "    </tr>\n",
       "    <tr>\n",
       "      <th>4</th>\n",
       "      <td>2020-01-28</td>\n",
       "      <td>32301.276042</td>\n",
       "      <td>4</td>\n",
       "    </tr>\n",
       "  </tbody>\n",
       "</table>\n",
       "</div>"
      ],
      "text/plain": [
       "         date        fp_num  count\n",
       "0  2020-01-24  11348.506944      2\n",
       "1  2020-01-25  22692.277778      5\n",
       "2  2020-01-26  18719.583333      8\n",
       "3  2020-01-27  25696.805556      2\n",
       "4  2020-01-28  32301.276042      4"
      ]
     },
     "execution_count": 50,
     "metadata": {},
     "output_type": "execute_result"
    }
   ],
   "source": [
    "df_merge_groupby.head()"
   ]
  },
  {
   "cell_type": "code",
   "execution_count": 42,
   "metadata": {},
   "outputs": [
    {
     "data": {
      "image/png": "[encoded data removed]",
      "text/plain": [
       "<Figure size 1080x720 with 1 Axes>"
      ]
     },
     "metadata": {
      "needs_background": "light"
     },
     "output_type": "display_data"
    }
   ],
   "source": [
    "# 서울 유동인구와 일일 확진자의 관계(하나로 표현)\n",
    "plt.figure(figsize=(15, 10))\n",
    "plt.plot(df_merge_groupby['date'], df_merge_groupby['fp_num']//1000, label='서울 유동인구(단위 : 천)')\n",
    "plt.plot(df_merge_groupby['date'], df_merge_groupby['count'], 'r-', label='서울 일일 확진자')\n",
    "plt.xlabel('날짜', fontsize=20)\n",
    "plt.xticks(fontsize=8, rotation=60)\n",
    "plt.yticks(fontsize=20)\n",
    "plt.title('서울 유동인구와 일일 확진자의 관계', fontsize=20)\n",
    "plt.legend(loc='upper right', fontsize=20)\n",
    "plt.show()"
   ]
  },
  {
   "cell_type": "code",
   "execution_count": 43,
   "metadata": {},
   "outputs": [
    {
     "data": {
      "image/png": "[encoded data removed]",
      "text/plain": [
       "<Figure size 4320x2160 with 2 Axes>"
      ]
     },
     "metadata": {
      "needs_background": "light"
     },
     "output_type": "display_data"
    }
   ],
   "source": [
    "# 서울 유동인구와 일일 확진자의 관계(subplot)\n",
    "plt.figure(figsize=(60, 30))\n",
    "plt.subplot(1,2,1)\n",
    "plt.bar(df_merge_groupby['date'], df_merge_groupby['fp_num']//1000, label='서울 유동인구(단위 : 천)')\n",
    "plt.xlabel('날짜', fontsize=20)\n",
    "plt.ylabel('서울 유동인구', fontsize=20)\n",
    "plt.xticks(fontsize=8, rotation=60)\n",
    "plt.yticks(fontsize=20)\n",
    "plt.title('서울 유동인구와 일일 확진자의 관계', fontsize=40)\n",
    "plt.legend(loc='upper right', fontsize=20)\n",
    "\n",
    "plt.subplot(1,2,2)\n",
    "plt.bar(df_merge_groupby['date'], df_merge_groupby['count'],label='서울 일일 확진자', color='red')\n",
    "plt.xlabel('날짜', fontsize=20)\n",
    "plt.ylabel('서울 일일 확진자', fontsize=20)\n",
    "plt.xticks(fontsize=8, rotation=60)\n",
    "plt.yticks(fontsize=20)\n",
    "plt.legend(loc='upper right', fontsize=20)\n",
    "plt.show()"
   ]
  },
  {
   "cell_type": "code",
   "execution_count": 44,
   "metadata": {},
   "outputs": [
    {
     "data": {
      "image/png": "[encoded data removed]",
      "text/plain": [
       "<Figure size 1080x720 with 1 Axes>"
      ]
     },
     "metadata": {
      "needs_background": "light"
     },
     "output_type": "display_data"
    }
   ],
   "source": [
    "# 서울 유동인구와 일일 확진자의 관계 산점도(하나로 표현)\n",
    "plt.figure(figsize=(15, 10))\n",
    "plt.scatter(df_merge_groupby['count'], df_merge_groupby['fp_num']//1000)\n",
    "plt.xlabel('서울 일일 확진자', fontsize=20)\n",
    "plt.ylabel('서울 유동인구(단위 : 천)', fontsize=20)\n",
    "plt.xticks(fontsize=8, rotation=60)\n",
    "plt.yticks(fontsize=20)\n",
    "plt.title('서울 유동인구와 일일 확진자의 관계', fontsize=20)\n",
    "plt.show()"
   ]
  },
  {
   "cell_type": "code",
   "execution_count": 45,
   "metadata": {},
   "outputs": [
    {
     "data": {
      "image/png": "[encoded data removed]",
      "text/plain": [
       "<Figure size 432x432 with 3 Axes>"
      ]
     },
     "metadata": {
      "needs_background": "light"
     },
     "output_type": "display_data"
    }
   ],
   "source": [
    "sns.jointplot(x='count',y='fp_num',data=df_merge_groupby,color='orange',kind='reg')\n",
    "plt.show()"
   ]
  },
  {
   "cell_type": "code",
   "execution_count": 46,
   "metadata": {},
   "outputs": [
    {
     "data": {
      "text/plain": [
       "array([0.268, 0.01 ])"
      ]
     },
     "execution_count": 46,
     "metadata": {},
     "output_type": "execute_result"
    }
   ],
   "source": [
    "# 피어슨 상관계수\n",
    "np.round(st.pearsonr(df_merge_groupby['count'],df_merge_groupby['fp_num']),3)           # 상관계수와 p-값."
   ]
  },
  {
   "cell_type": "code",
   "execution_count": 47,
   "metadata": {},
   "outputs": [
    {
     "data": {
      "text/plain": [
       "array([0.406, 0.   ])"
      ]
     },
     "execution_count": 47,
     "metadata": {},
     "output_type": "execute_result"
    }
   ],
   "source": [
    "# 스피어맨 상관계수\n",
    "np.round(st.spearmanr(df_merge_groupby['count'],df_merge_groupby['fp_num']),3)  "
   ]
  },
  {
   "cell_type": "code",
   "execution_count": 48,
   "metadata": {},
   "outputs": [
    {
     "data": {
      "text/plain": [
       "array([0.285, 0.   ])"
      ]
     },
     "execution_count": 48,
     "metadata": {},
     "output_type": "execute_result"
    }
   ],
   "source": [
    "# 캔달 상관계수\n",
    "np.round(st.kendalltau(df_merge_groupby['count'],df_merge_groupby['fp_num']),3)"
   ]
  },
  {
   "cell_type": "code",
   "execution_count": 49,
   "metadata": {},
   "outputs": [
    {
     "name": "stdout",
     "output_type": "stream",
     "text": [
      "p_value : 0.0\n"
     ]
    }
   ],
   "source": [
    "# 일일 확진자수와 유동인구 독립성 결정\n",
    "stat, p_val, degFree, expected = st.chi2_contingency(df_merge_groupby[['count','fp_num']])    # 통계량, p-값, 자유도, 기대도수.\n",
    "print(\"p_value : {}\".format(np.round(p_val,3)))      "
   ]
  },
  {
   "cell_type": "code",
   "execution_count": null,
   "metadata": {},
   "outputs": [],
   "source": []
  }
 ],
 "metadata": {
  "kernelspec": {
   "display_name": "Python 3",
   "language": "python",
   "name": "python3"
  },
  "language_info": {
   "codemirror_mode": {
    "name": "ipython",
    "version": 3
   },
   "file_extension": ".py",
   "mimetype": "text/x-python",
   "name": "python",
   "nbconvert_exporter": "python",
   "pygments_lexer": "ipython3",
   "version": "3.8.3"
  }
 },
 "nbformat": 4,
 "nbformat_minor": 4
}

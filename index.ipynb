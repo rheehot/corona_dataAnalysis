{
  "nbformat": 4,
  "nbformat_minor": 0,
  "metadata": {
    "orig_nbformat": 2,
    "kernelspec": {
      "name": "python3",
      "display_name": "Python 3"
    },
    "colab": {
      "name": "index.ipynb",
      "provenance": [],
      "collapsed_sections": [
        "1TM6c3eSsQwm"
      ]
    },
    "accelerator": "GPU"
  },
  "cells": [
    {
      "cell_type": "markdown",
      "metadata": {
        "id": "Z05337xfsLIB",
        "colab_type": "text"
      },
      "source": [
        "# 파일 경로 및 라이브러리\n"
      ]
    },
    {
      "cell_type": "code",
      "metadata": {
        "id": "0YNVDPe1jSJN",
        "colab_type": "code",
        "colab": {}
      },
      "source": [
        "import pandas as pd\n",
        "import matplotlib.pyplot as plt\n"
      ],
      "execution_count": 1,
      "outputs": []
    },
    {
      "cell_type": "code",
      "metadata": {
        "id": "2Me8Cu1MjfNa",
        "colab_type": "code",
        "colab": {
          "base_uri": "https://localhost:8080/",
          "height": 122
        },
        "outputId": "93a096ea-f370-45a5-e7cb-73e3df11679f"
      },
      "source": [
        "from google.colab import drive\n",
        "drive.mount('/content/drive')"
      ],
      "execution_count": 2,
      "outputs": [
        {
          "output_type": "stream",
          "text": [
            "Go to this URL in a browser: https://accounts.google.com/o/oauth2/auth?client_id=947318989803-6bn6qk8qdgf4n4g3pfee6491hc0brc4i.apps.googleusercontent.com&redirect_uri=urn%3aietf%3awg%3aoauth%3a2.0%3aoob&scope=email%20https%3a%2f%2fwww.googleapis.com%2fauth%2fdocs.test%20https%3a%2f%2fwww.googleapis.com%2fauth%2fdrive%20https%3a%2f%2fwww.googleapis.com%2fauth%2fdrive.photos.readonly%20https%3a%2f%2fwww.googleapis.com%2fauth%2fpeopleapi.readonly&response_type=code\n",
            "\n",
            "Enter your authorization code:\n",
            "··········\n",
            "Mounted at /content/drive\n"
          ],
          "name": "stdout"
        }
      ]
    },
    {
      "cell_type": "code",
      "metadata": {
        "id": "K3aHs8UUjvnL",
        "colab_type": "code",
        "colab": {
          "base_uri": "https://localhost:8080/",
          "height": 34
        },
        "outputId": "2c4e1241-b70d-4935-eafd-390af375cff7"
      },
      "source": [
        "%cd /content/drive/My Drive/Colab Notebooks/corona_project/corona"
      ],
      "execution_count": 3,
      "outputs": [
        {
          "output_type": "stream",
          "text": [
            "/content/drive/My Drive/Colab Notebooks/corona_project/corona\n"
          ],
          "name": "stdout"
        }
      ]
    },
    {
      "cell_type": "markdown",
      "metadata": {
        "id": "1TM6c3eSsQwm",
        "colab_type": "text"
      },
      "source": [
        "# Policy.csv 확인"
      ]
    },
    {
      "cell_type": "code",
      "metadata": {
        "id": "7QVwIIRpjSJS",
        "colab_type": "code",
        "colab": {
          "base_uri": "https://localhost:8080/",
          "height": 0
        },
        "outputId": "b6e8cce0-eb32-4561-d93b-249dadeda868"
      },
      "source": [
        "data = pd.read_csv(\"policy/Policy.csv\")\n",
        "data.head(3)"
      ],
      "execution_count": 4,
      "outputs": [
        {
          "output_type": "execute_result",
          "data": {
            "text/html": [
              "<div>\n",
              "<style scoped>\n",
              "    .dataframe tbody tr th:only-of-type {\n",
              "        vertical-align: middle;\n",
              "    }\n",
              "\n",
              "    .dataframe tbody tr th {\n",
              "        vertical-align: top;\n",
              "    }\n",
              "\n",
              "    .dataframe thead th {\n",
              "        text-align: right;\n",
              "    }\n",
              "</style>\n",
              "<table border=\"1\" class=\"dataframe\">\n",
              "  <thead>\n",
              "    <tr style=\"text-align: right;\">\n",
              "      <th></th>\n",
              "      <th>policy_id</th>\n",
              "      <th>country</th>\n",
              "      <th>type</th>\n",
              "      <th>gov_policy</th>\n",
              "      <th>detail</th>\n",
              "      <th>start_date</th>\n",
              "      <th>end_date</th>\n",
              "    </tr>\n",
              "  </thead>\n",
              "  <tbody>\n",
              "    <tr>\n",
              "      <th>0</th>\n",
              "      <td>1</td>\n",
              "      <td>Korea</td>\n",
              "      <td>Alert</td>\n",
              "      <td>Infectious Disease Alert Level</td>\n",
              "      <td>Level 1 (Blue)</td>\n",
              "      <td>2020-01-03</td>\n",
              "      <td>2020-01-19</td>\n",
              "    </tr>\n",
              "    <tr>\n",
              "      <th>1</th>\n",
              "      <td>2</td>\n",
              "      <td>Korea</td>\n",
              "      <td>Alert</td>\n",
              "      <td>Infectious Disease Alert Level</td>\n",
              "      <td>Level 2 (Yellow)</td>\n",
              "      <td>2020-01-20</td>\n",
              "      <td>2020-01-27</td>\n",
              "    </tr>\n",
              "    <tr>\n",
              "      <th>2</th>\n",
              "      <td>3</td>\n",
              "      <td>Korea</td>\n",
              "      <td>Alert</td>\n",
              "      <td>Infectious Disease Alert Level</td>\n",
              "      <td>Level 3 (Orange)</td>\n",
              "      <td>2020-01-28</td>\n",
              "      <td>2020-02-22</td>\n",
              "    </tr>\n",
              "  </tbody>\n",
              "</table>\n",
              "</div>"
            ],
            "text/plain": [
              "   policy_id country   type  ...            detail  start_date    end_date\n",
              "0          1   Korea  Alert  ...    Level 1 (Blue)  2020-01-03  2020-01-19\n",
              "1          2   Korea  Alert  ...  Level 2 (Yellow)  2020-01-20  2020-01-27\n",
              "2          3   Korea  Alert  ...  Level 3 (Orange)  2020-01-28  2020-02-22\n",
              "\n",
              "[3 rows x 7 columns]"
            ]
          },
          "metadata": {
            "tags": []
          },
          "execution_count": 4
        }
      ]
    },
    {
      "cell_type": "code",
      "metadata": {
        "id": "JW7Bl6_ojSJY",
        "colab_type": "code",
        "colab": {
          "base_uri": "https://localhost:8080/",
          "height": 0
        },
        "outputId": "11a9184a-b788-4152-98c9-8f0a6517b4b8"
      },
      "source": [
        "data.groupby(['type','gov_policy']).count()"
      ],
      "execution_count": 5,
      "outputs": [
        {
          "output_type": "execute_result",
          "data": {
            "text/html": [
              "<div>\n",
              "<style scoped>\n",
              "    .dataframe tbody tr th:only-of-type {\n",
              "        vertical-align: middle;\n",
              "    }\n",
              "\n",
              "    .dataframe tbody tr th {\n",
              "        vertical-align: top;\n",
              "    }\n",
              "\n",
              "    .dataframe thead th {\n",
              "        text-align: right;\n",
              "    }\n",
              "</style>\n",
              "<table border=\"1\" class=\"dataframe\">\n",
              "  <thead>\n",
              "    <tr style=\"text-align: right;\">\n",
              "      <th></th>\n",
              "      <th></th>\n",
              "      <th>policy_id</th>\n",
              "      <th>country</th>\n",
              "      <th>detail</th>\n",
              "      <th>start_date</th>\n",
              "      <th>end_date</th>\n",
              "    </tr>\n",
              "    <tr>\n",
              "      <th>type</th>\n",
              "      <th>gov_policy</th>\n",
              "      <th></th>\n",
              "      <th></th>\n",
              "      <th></th>\n",
              "      <th></th>\n",
              "      <th></th>\n",
              "    </tr>\n",
              "  </thead>\n",
              "  <tbody>\n",
              "    <tr>\n",
              "      <th rowspan=\"3\" valign=\"top\">Administrative</th>\n",
              "      <th>Close bars and clubs</th>\n",
              "      <td>1</td>\n",
              "      <td>1</td>\n",
              "      <td>1</td>\n",
              "      <td>1</td>\n",
              "      <td>1</td>\n",
              "    </tr>\n",
              "    <tr>\n",
              "      <th>Close karaoke</th>\n",
              "      <td>1</td>\n",
              "      <td>1</td>\n",
              "      <td>1</td>\n",
              "      <td>1</td>\n",
              "      <td>1</td>\n",
              "    </tr>\n",
              "    <tr>\n",
              "      <th>local government Administrative orders</th>\n",
              "      <td>1</td>\n",
              "      <td>1</td>\n",
              "      <td>1</td>\n",
              "      <td>1</td>\n",
              "      <td>1</td>\n",
              "    </tr>\n",
              "    <tr>\n",
              "      <th>Alert</th>\n",
              "      <th>Infectious Disease Alert Level</th>\n",
              "      <td>4</td>\n",
              "      <td>4</td>\n",
              "      <td>4</td>\n",
              "      <td>4</td>\n",
              "      <td>4</td>\n",
              "    </tr>\n",
              "    <tr>\n",
              "      <th rowspan=\"3\" valign=\"top\">Education</th>\n",
              "      <th>School Closure</th>\n",
              "      <td>1</td>\n",
              "      <td>1</td>\n",
              "      <td>1</td>\n",
              "      <td>1</td>\n",
              "      <td>1</td>\n",
              "    </tr>\n",
              "    <tr>\n",
              "      <th>School Opening Delay</th>\n",
              "      <td>4</td>\n",
              "      <td>4</td>\n",
              "      <td>4</td>\n",
              "      <td>4</td>\n",
              "      <td>4</td>\n",
              "    </tr>\n",
              "    <tr>\n",
              "      <th>School Opening with Online Class</th>\n",
              "      <td>10</td>\n",
              "      <td>10</td>\n",
              "      <td>10</td>\n",
              "      <td>10</td>\n",
              "      <td>10</td>\n",
              "    </tr>\n",
              "    <tr>\n",
              "      <th rowspan=\"3\" valign=\"top\">Health</th>\n",
              "      <th>Drive-Through Screening Center</th>\n",
              "      <td>2</td>\n",
              "      <td>2</td>\n",
              "      <td>2</td>\n",
              "      <td>2</td>\n",
              "      <td>2</td>\n",
              "    </tr>\n",
              "    <tr>\n",
              "      <th>Emergency Use Authorization of Diagnostic Kit</th>\n",
              "      <td>5</td>\n",
              "      <td>5</td>\n",
              "      <td>5</td>\n",
              "      <td>5</td>\n",
              "      <td>5</td>\n",
              "    </tr>\n",
              "    <tr>\n",
              "      <th>Mask Distribution</th>\n",
              "      <td>2</td>\n",
              "      <td>2</td>\n",
              "      <td>2</td>\n",
              "      <td>2</td>\n",
              "      <td>2</td>\n",
              "    </tr>\n",
              "    <tr>\n",
              "      <th rowspan=\"3\" valign=\"top\">Immigration</th>\n",
              "      <th>Mandatory 14-day Self-Quarantine</th>\n",
              "      <td>1</td>\n",
              "      <td>1</td>\n",
              "      <td>1</td>\n",
              "      <td>1</td>\n",
              "      <td>1</td>\n",
              "    </tr>\n",
              "    <tr>\n",
              "      <th>Mandatory Self-Quarantine &amp; Diagonostic Tests</th>\n",
              "      <td>1</td>\n",
              "      <td>1</td>\n",
              "      <td>1</td>\n",
              "      <td>1</td>\n",
              "      <td>1</td>\n",
              "    </tr>\n",
              "    <tr>\n",
              "      <th>Special Immigration Procedure</th>\n",
              "      <td>13</td>\n",
              "      <td>13</td>\n",
              "      <td>13</td>\n",
              "      <td>13</td>\n",
              "      <td>13</td>\n",
              "    </tr>\n",
              "    <tr>\n",
              "      <th rowspan=\"2\" valign=\"top\">Social</th>\n",
              "      <th>Social Distancing Campaign</th>\n",
              "      <td>3</td>\n",
              "      <td>3</td>\n",
              "      <td>3</td>\n",
              "      <td>3</td>\n",
              "      <td>3</td>\n",
              "    </tr>\n",
              "    <tr>\n",
              "      <th>Thanks to Challenge korea</th>\n",
              "      <td>1</td>\n",
              "      <td>1</td>\n",
              "      <td>1</td>\n",
              "      <td>1</td>\n",
              "      <td>1</td>\n",
              "    </tr>\n",
              "    <tr>\n",
              "      <th rowspan=\"5\" valign=\"top\">Technology</th>\n",
              "      <th>Electronic Wristbands</th>\n",
              "      <td>1</td>\n",
              "      <td>1</td>\n",
              "      <td>1</td>\n",
              "      <td>1</td>\n",
              "      <td>1</td>\n",
              "    </tr>\n",
              "    <tr>\n",
              "      <th>Open API</th>\n",
              "      <td>1</td>\n",
              "      <td>1</td>\n",
              "      <td>1</td>\n",
              "      <td>1</td>\n",
              "      <td>1</td>\n",
              "    </tr>\n",
              "    <tr>\n",
              "      <th>Open Data</th>\n",
              "      <td>1</td>\n",
              "      <td>1</td>\n",
              "      <td>1</td>\n",
              "      <td>1</td>\n",
              "      <td>1</td>\n",
              "    </tr>\n",
              "    <tr>\n",
              "      <th>Self-Diagnosis App</th>\n",
              "      <td>1</td>\n",
              "      <td>1</td>\n",
              "      <td>1</td>\n",
              "      <td>1</td>\n",
              "      <td>1</td>\n",
              "    </tr>\n",
              "    <tr>\n",
              "      <th>Self-Quarantine Safety Protection App</th>\n",
              "      <td>1</td>\n",
              "      <td>1</td>\n",
              "      <td>1</td>\n",
              "      <td>1</td>\n",
              "      <td>1</td>\n",
              "    </tr>\n",
              "    <tr>\n",
              "      <th rowspan=\"2\" valign=\"top\">Transformation</th>\n",
              "      <th>Logistics center</th>\n",
              "      <td>1</td>\n",
              "      <td>1</td>\n",
              "      <td>1</td>\n",
              "      <td>1</td>\n",
              "      <td>1</td>\n",
              "    </tr>\n",
              "    <tr>\n",
              "      <th>Wearing of masks</th>\n",
              "      <td>2</td>\n",
              "      <td>2</td>\n",
              "      <td>2</td>\n",
              "      <td>2</td>\n",
              "      <td>2</td>\n",
              "    </tr>\n",
              "  </tbody>\n",
              "</table>\n",
              "</div>"
            ],
            "text/plain": [
              "                                                              policy_id  ...  end_date\n",
              "type           gov_policy                                                ...          \n",
              "Administrative Close bars and clubs                                   1  ...         1\n",
              "               Close karaoke                                          1  ...         1\n",
              "               local government Administrative orders                 1  ...         1\n",
              "Alert          Infectious Disease Alert Level                         4  ...         4\n",
              "Education      School Closure                                         1  ...         1\n",
              "               School Opening Delay                                   4  ...         4\n",
              "               School Opening with Online Class                      10  ...        10\n",
              "Health         Drive-Through Screening Center                         2  ...         2\n",
              "               Emergency Use Authorization of Diagnostic Kit          5  ...         5\n",
              "               Mask Distribution                                      2  ...         2\n",
              "Immigration    Mandatory 14-day Self-Quarantine                       1  ...         1\n",
              "               Mandatory Self-Quarantine & Diagonostic Tests          1  ...         1\n",
              "               Special Immigration Procedure                         13  ...        13\n",
              "Social         Social Distancing Campaign                             3  ...         3\n",
              "               Thanks to Challenge korea                              1  ...         1\n",
              "Technology     Electronic Wristbands                                  1  ...         1\n",
              "               Open API                                               1  ...         1\n",
              "               Open Data                                              1  ...         1\n",
              "               Self-Diagnosis App                                     1  ...         1\n",
              "               Self-Quarantine Safety Protection App                  1  ...         1\n",
              "Transformation Logistics center                                       1  ...         1\n",
              "               Wearing of masks                                       2  ...         2\n",
              "\n",
              "[22 rows x 5 columns]"
            ]
          },
          "metadata": {
            "tags": []
          },
          "execution_count": 5
        }
      ]
    },
    {
      "cell_type": "code",
      "metadata": {
        "id": "T9C9XKNEjSJc",
        "colab_type": "code",
        "colab": {}
      },
      "source": [
        ""
      ],
      "execution_count": 5,
      "outputs": []
    },
    {
      "cell_type": "markdown",
      "metadata": {
        "id": "X8W9kSfEsbe0",
        "colab_type": "text"
      },
      "source": [
        "# 일일 확진자 수"
      ]
    },
    {
      "cell_type": "code",
      "metadata": {
        "id": "vU-0gxAosbN3",
        "colab_type": "code",
        "colab": {
          "base_uri": "https://localhost:8080/",
          "height": 204
        },
        "outputId": "a155db6b-844f-41d5-ebfb-5b32727b863c"
      },
      "source": [
        "data_daily = pd.read_csv('seoul_floating/data/daily2.csv', encoding='euc-kr')\n",
        "data_daily.head(5)"
      ],
      "execution_count": 4,
      "outputs": [
        {
          "output_type": "execute_result",
          "data": {
            "text/html": [
              "<div>\n",
              "<style scoped>\n",
              "    .dataframe tbody tr th:only-of-type {\n",
              "        vertical-align: middle;\n",
              "    }\n",
              "\n",
              "    .dataframe tbody tr th {\n",
              "        vertical-align: top;\n",
              "    }\n",
              "\n",
              "    .dataframe thead th {\n",
              "        text-align: right;\n",
              "    }\n",
              "</style>\n",
              "<table border=\"1\" class=\"dataframe\">\n",
              "  <thead>\n",
              "    <tr style=\"text-align: right;\">\n",
              "      <th></th>\n",
              "      <th>province</th>\n",
              "      <th>confirmed</th>\n",
              "      <th>date</th>\n",
              "    </tr>\n",
              "  </thead>\n",
              "  <tbody>\n",
              "    <tr>\n",
              "      <th>0</th>\n",
              "      <td>NaN</td>\n",
              "      <td>NaN</td>\n",
              "      <td>NaN</td>\n",
              "    </tr>\n",
              "    <tr>\n",
              "      <th>1</th>\n",
              "      <td>검역</td>\n",
              "      <td>3.0</td>\n",
              "      <td>2020-09-03</td>\n",
              "    </tr>\n",
              "    <tr>\n",
              "      <th>2</th>\n",
              "      <td>NaN</td>\n",
              "      <td>NaN</td>\n",
              "      <td>NaN</td>\n",
              "    </tr>\n",
              "    <tr>\n",
              "      <th>3</th>\n",
              "      <td>제주</td>\n",
              "      <td>0.0</td>\n",
              "      <td>2020-09-03</td>\n",
              "    </tr>\n",
              "    <tr>\n",
              "      <th>4</th>\n",
              "      <td>NaN</td>\n",
              "      <td>NaN</td>\n",
              "      <td>NaN</td>\n",
              "    </tr>\n",
              "  </tbody>\n",
              "</table>\n",
              "</div>"
            ],
            "text/plain": [
              "  province  confirmed        date\n",
              "0      NaN        NaN         NaN\n",
              "1       검역        3.0  2020-09-03\n",
              "2      NaN        NaN         NaN\n",
              "3       제주        0.0  2020-09-03\n",
              "4      NaN        NaN         NaN"
            ]
          },
          "metadata": {
            "tags": []
          },
          "execution_count": 4
        }
      ]
    },
    {
      "cell_type": "code",
      "metadata": {
        "id": "rtVCt-N0s4ic",
        "colab_type": "code",
        "colab": {
          "base_uri": "https://localhost:8080/",
          "height": 419
        },
        "outputId": "7687c23a-9930-44e9-8a97-4a98634895e4"
      },
      "source": [
        "data_daily =data_daily.dropna()\n",
        "data_daily"
      ],
      "execution_count": 5,
      "outputs": [
        {
          "output_type": "execute_result",
          "data": {
            "text/html": [
              "<div>\n",
              "<style scoped>\n",
              "    .dataframe tbody tr th:only-of-type {\n",
              "        vertical-align: middle;\n",
              "    }\n",
              "\n",
              "    .dataframe tbody tr th {\n",
              "        vertical-align: top;\n",
              "    }\n",
              "\n",
              "    .dataframe thead th {\n",
              "        text-align: right;\n",
              "    }\n",
              "</style>\n",
              "<table border=\"1\" class=\"dataframe\">\n",
              "  <thead>\n",
              "    <tr style=\"text-align: right;\">\n",
              "      <th></th>\n",
              "      <th>province</th>\n",
              "      <th>confirmed</th>\n",
              "      <th>date</th>\n",
              "    </tr>\n",
              "  </thead>\n",
              "  <tbody>\n",
              "    <tr>\n",
              "      <th>1</th>\n",
              "      <td>검역</td>\n",
              "      <td>3.0</td>\n",
              "      <td>2020-09-03</td>\n",
              "    </tr>\n",
              "    <tr>\n",
              "      <th>3</th>\n",
              "      <td>제주</td>\n",
              "      <td>0.0</td>\n",
              "      <td>2020-09-03</td>\n",
              "    </tr>\n",
              "    <tr>\n",
              "      <th>5</th>\n",
              "      <td>경남</td>\n",
              "      <td>0.0</td>\n",
              "      <td>2020-09-03</td>\n",
              "    </tr>\n",
              "    <tr>\n",
              "      <th>7</th>\n",
              "      <td>경북</td>\n",
              "      <td>0.0</td>\n",
              "      <td>2020-09-03</td>\n",
              "    </tr>\n",
              "    <tr>\n",
              "      <th>9</th>\n",
              "      <td>전남</td>\n",
              "      <td>6.0</td>\n",
              "      <td>2020-09-03</td>\n",
              "    </tr>\n",
              "    <tr>\n",
              "      <th>...</th>\n",
              "      <td>...</td>\n",
              "      <td>...</td>\n",
              "      <td>...</td>\n",
              "    </tr>\n",
              "    <tr>\n",
              "      <th>7377</th>\n",
              "      <td>인천</td>\n",
              "      <td>0.0</td>\n",
              "      <td>2020-03-01</td>\n",
              "    </tr>\n",
              "    <tr>\n",
              "      <th>7379</th>\n",
              "      <td>대구</td>\n",
              "      <td>469.0</td>\n",
              "      <td>2020-03-01</td>\n",
              "    </tr>\n",
              "    <tr>\n",
              "      <th>7381</th>\n",
              "      <td>부산</td>\n",
              "      <td>3.0</td>\n",
              "      <td>2020-03-01</td>\n",
              "    </tr>\n",
              "    <tr>\n",
              "      <th>7383</th>\n",
              "      <td>서울</td>\n",
              "      <td>10.0</td>\n",
              "      <td>2020-03-01</td>\n",
              "    </tr>\n",
              "    <tr>\n",
              "      <th>7385</th>\n",
              "      <td>합계</td>\n",
              "      <td>586.0</td>\n",
              "      <td>2020-03-01</td>\n",
              "    </tr>\n",
              "  </tbody>\n",
              "</table>\n",
              "<p>3693 rows × 3 columns</p>\n",
              "</div>"
            ],
            "text/plain": [
              "     province  confirmed        date\n",
              "1          검역        3.0  2020-09-03\n",
              "3          제주        0.0  2020-09-03\n",
              "5          경남        0.0  2020-09-03\n",
              "7          경북        0.0  2020-09-03\n",
              "9          전남        6.0  2020-09-03\n",
              "...       ...        ...         ...\n",
              "7377       인천        0.0  2020-03-01\n",
              "7379       대구      469.0  2020-03-01\n",
              "7381       부산        3.0  2020-03-01\n",
              "7383       서울       10.0  2020-03-01\n",
              "7385       합계      586.0  2020-03-01\n",
              "\n",
              "[3693 rows x 3 columns]"
            ]
          },
          "metadata": {
            "tags": []
          },
          "execution_count": 5
        }
      ]
    },
    {
      "cell_type": "code",
      "metadata": {
        "id": "sT0oNZgJs-47",
        "colab_type": "code",
        "colab": {
          "base_uri": "https://localhost:8080/",
          "height": 187
        },
        "outputId": "10c0a569-1fbc-4990-ef7b-0807968b77e0"
      },
      "source": [
        "data_daily.info()"
      ],
      "execution_count": 8,
      "outputs": [
        {
          "output_type": "stream",
          "text": [
            "<class 'pandas.core.frame.DataFrame'>\n",
            "Int64Index: 3693 entries, 1 to 7385\n",
            "Data columns (total 3 columns):\n",
            " #   Column     Non-Null Count  Dtype  \n",
            "---  ------     --------------  -----  \n",
            " 0   province   3693 non-null   object \n",
            " 1   confirmed  3693 non-null   float64\n",
            " 2   date       3693 non-null   object \n",
            "dtypes: float64(1), object(2)\n",
            "memory usage: 115.4+ KB\n"
          ],
          "name": "stdout"
        }
      ]
    },
    {
      "cell_type": "markdown",
      "metadata": {
        "id": "oc7Z4iii0Lcc",
        "colab_type": "text"
      },
      "source": [
        "### data & confirmed => DataFame"
      ]
    },
    {
      "cell_type": "code",
      "metadata": {
        "id": "H8RgT0HitQ92",
        "colab_type": "code",
        "colab": {
          "base_uri": "https://localhost:8080/",
          "height": 238
        },
        "outputId": "5fb0e215-0557-4ae5-9971-1b6dabd9c430"
      },
      "source": [
        "data_group_daily = data_daily.groupby(['date'])['confirmed'].sum()\n",
        "data_group_daily"
      ],
      "execution_count": 6,
      "outputs": [
        {
          "output_type": "execute_result",
          "data": {
            "text/plain": [
              "date\n",
              "2020-03-01    1172.0\n",
              "2020-03-04    1032.0\n",
              "2020-03-05     876.0\n",
              "2020-03-06    1036.0\n",
              "2020-03-07     966.0\n",
              "               ...  \n",
              "2020-08-30     598.0\n",
              "2020-08-31     496.0\n",
              "2020-09-01     470.0\n",
              "2020-09-02     534.0\n",
              "2020-09-03     390.0\n",
              "Name: confirmed, Length: 184, dtype: float64"
            ]
          },
          "metadata": {
            "tags": []
          },
          "execution_count": 6
        }
      ]
    },
    {
      "cell_type": "code",
      "metadata": {
        "id": "YZiBH9j8wIV_",
        "colab_type": "code",
        "colab": {}
      },
      "source": [
        ""
      ],
      "execution_count": 9,
      "outputs": []
    },
    {
      "cell_type": "code",
      "metadata": {
        "id": "B7ULxQu7un0R",
        "colab_type": "code",
        "colab": {}
      },
      "source": [
        "df_1=data_group_daily.index\n",
        "df_2=data_group_daily.values"
      ],
      "execution_count": 7,
      "outputs": []
    },
    {
      "cell_type": "code",
      "metadata": {
        "id": "cd871m7jyXhT",
        "colab_type": "code",
        "colab": {}
      },
      "source": [
        "df = pd.DataFrame([df_2], columns=df_1, index=['confirmed'])\n",
        "df = df.T"
      ],
      "execution_count": 8,
      "outputs": []
    },
    {
      "cell_type": "markdown",
      "metadata": {
        "id": "Wx_7gxPc0OsF",
        "colab_type": "text"
      },
      "source": [
        "## data & confirmed 시각화"
      ]
    },
    {
      "cell_type": "code",
      "metadata": {
        "id": "Uz-7QYZTtFKx",
        "colab_type": "code",
        "colab": {
          "base_uri": "https://localhost:8080/",
          "height": 925
        },
        "outputId": "054bd52e-198b-4740-f2d1-f32103a7585c"
      },
      "source": [
        "plt.figure(figsize=(15,15))\n",
        "plt.plot(df)\n",
        "plt.xticks(rotation=90)\n",
        "plt.xlabel('date')\n",
        "plt.ylabel('confirmed')\n",
        "plt.show()"
      ],
      "execution_count": 9,
      "outputs": [
        {
          "output_type": "display_data",
          "data": {
            "image/png": "[encoded data removed]",
            "text/plain": [
              "<Figure size 1080x1080 with 1 Axes>"
            ]
          },
          "metadata": {
            "tags": [],
            "needs_background": "light"
          }
        }
      ]
    },
    {
      "cell_type": "markdown",
      "metadata": {
        "id": "6Pd1HFup0tyD",
        "colab_type": "text"
      },
      "source": [
        "## 서울시"
      ]
    },
    {
      "cell_type": "code",
      "metadata": {
        "id": "VZLaRDB813Kp",
        "colab_type": "code",
        "colab": {
          "base_uri": "https://localhost:8080/",
          "height": 51
        },
        "outputId": "fb3491c9-c463-49f7-d331-57749fed44cd"
      },
      "source": [
        "data_daily['province'].unique()"
      ],
      "execution_count": 13,
      "outputs": [
        {
          "output_type": "execute_result",
          "data": {
            "text/plain": [
              "array(['검역', '제주', '경남', '경북', '전남', '전북', '충남', '충북', '강원', '경기', '세종',\n",
              "       '울산', '대전', '광주', '인천', '대구', '부산', '서울', '합계'], dtype=object)"
            ]
          },
          "metadata": {
            "tags": []
          },
          "execution_count": 13
        }
      ]
    },
    {
      "cell_type": "code",
      "metadata": {
        "id": "_3SICJP50yzE",
        "colab_type": "code",
        "colab": {}
      },
      "source": [
        "# data_group_province = data_daily.groupby(['province','date'])['confirmed'].sum()\n",
        "# data_group_province"
      ],
      "execution_count": 14,
      "outputs": []
    },
    {
      "cell_type": "markdown",
      "metadata": {
        "id": "6Tq_0PBN3dEa",
        "colab_type": "text"
      },
      "source": [
        "### 지역별 확진자 수 함수 "
      ]
    },
    {
      "cell_type": "code",
      "metadata": {
        "id": "dlsUUSaq3DsY",
        "colab_type": "code",
        "colab": {}
      },
      "source": [
        "def province_date(text):\n",
        "  # province = text\n",
        "  data_group_province = data_daily[data_daily['province']==text].groupby(['date']).sum()\n",
        "  df_1=province_date('서울').index\n",
        "  df_2=province_date('서울').values\n",
        "  df_2 = pd.DataFrame(df_2, index=df_1, columns=[text])\n",
        "  return df_2"
      ],
      "execution_count": 14,
      "outputs": []
    },
    {
      "cell_type": "code",
      "metadata": {
        "id": "gkxhW5Fa4XKc",
        "colab_type": "code",
        "colab": {}
      },
      "source": [
        "data_group_province = data_daily[data_daily['province']==''].groupby(['date']).sum()"
      ],
      "execution_count": 16,
      "outputs": []
    },
    {
      "cell_type": "code",
      "metadata": {
        "id": "ep_nru9y1fZJ",
        "colab_type": "code",
        "colab": {
          "base_uri": "https://localhost:8080/",
          "height": 412
        },
        "outputId": "e71dc443-6eb8-41f7-8291-0214c9b49ffb"
      },
      "source": [
        "df_Seoul = province_date('서울')\n",
        "df_Jeju = province_date('제주')\n",
        "df_South_Gyeongsang = province_date('경남')\n",
        "df_North_Gyeongsang = province_date('경북')\n",
        "df_South_Jeolla = province_date('전남')\n",
        "df_North_Jeolla = province_date('전북')\n",
        "df_South_Chungcheong = province_date('충남')\n",
        "df_North_Chungcheong = province_date('충북')\n",
        "df_Gangwon = province_date('강원')\n",
        "df_Gyeonggi = province_date('경기')\n",
        "df_Sejong = province_date('세종')\n",
        "df_Ulsan = province_date('울산')\n",
        "df_Daejeon = province_date('대전')\n",
        "df_Gwangju = province_date('광주')\n",
        "df_Incheon = province_date('인천')\n",
        "df_Daegu = province_date('대구')\n",
        "df_Busan = province_date('부산')\n",
        "\n"
      ],
      "execution_count": 15,
      "outputs": [
        {
          "output_type": "error",
          "ename": "RecursionError",
          "evalue": "ignored",
          "traceback": [
            "\u001b[0;31m---------------------------------------------------------------------------\u001b[0m",
            "\u001b[0;31mRecursionError\u001b[0m                            Traceback (most recent call last)",
            "\u001b[0;32m<ipython-input-15-4fd11b50ff8f>\u001b[0m in \u001b[0;36m<module>\u001b[0;34m()\u001b[0m\n\u001b[0;32m----> 1\u001b[0;31m \u001b[0mdf_Seoul\u001b[0m \u001b[0;34m=\u001b[0m \u001b[0mprovince_date\u001b[0m\u001b[0;34m(\u001b[0m\u001b[0;34m'서울'\u001b[0m\u001b[0;34m)\u001b[0m\u001b[0;34m\u001b[0m\u001b[0;34m\u001b[0m\u001b[0m\n\u001b[0m\u001b[1;32m      2\u001b[0m \u001b[0mdf_Jeju\u001b[0m \u001b[0;34m=\u001b[0m \u001b[0mprovince_date\u001b[0m\u001b[0;34m(\u001b[0m\u001b[0;34m'제주'\u001b[0m\u001b[0;34m)\u001b[0m\u001b[0;34m\u001b[0m\u001b[0;34m\u001b[0m\u001b[0m\n\u001b[1;32m      3\u001b[0m \u001b[0mdf_South_Gyeongsang\u001b[0m \u001b[0;34m=\u001b[0m \u001b[0mprovince_date\u001b[0m\u001b[0;34m(\u001b[0m\u001b[0;34m'경남'\u001b[0m\u001b[0;34m)\u001b[0m\u001b[0;34m\u001b[0m\u001b[0;34m\u001b[0m\u001b[0m\n\u001b[1;32m      4\u001b[0m \u001b[0mdf_North_Gyeongsang\u001b[0m \u001b[0;34m=\u001b[0m \u001b[0mprovince_date\u001b[0m\u001b[0;34m(\u001b[0m\u001b[0;34m'경북'\u001b[0m\u001b[0;34m)\u001b[0m\u001b[0;34m\u001b[0m\u001b[0;34m\u001b[0m\u001b[0m\n\u001b[1;32m      5\u001b[0m \u001b[0mdf_South_Jeolla\u001b[0m \u001b[0;34m=\u001b[0m \u001b[0mprovince_date\u001b[0m\u001b[0;34m(\u001b[0m\u001b[0;34m'전남'\u001b[0m\u001b[0;34m)\u001b[0m\u001b[0;34m\u001b[0m\u001b[0;34m\u001b[0m\u001b[0m\n",
            "\u001b[0;32m<ipython-input-14-4494a164a156>\u001b[0m in \u001b[0;36mprovince_date\u001b[0;34m(text)\u001b[0m\n\u001b[1;32m      2\u001b[0m   \u001b[0;31m# province = text\u001b[0m\u001b[0;34m\u001b[0m\u001b[0;34m\u001b[0m\u001b[0;34m\u001b[0m\u001b[0m\n\u001b[1;32m      3\u001b[0m   \u001b[0mdata_group_province\u001b[0m \u001b[0;34m=\u001b[0m \u001b[0mdata_daily\u001b[0m\u001b[0;34m[\u001b[0m\u001b[0mdata_daily\u001b[0m\u001b[0;34m[\u001b[0m\u001b[0;34m'province'\u001b[0m\u001b[0;34m]\u001b[0m\u001b[0;34m==\u001b[0m\u001b[0mtext\u001b[0m\u001b[0;34m]\u001b[0m\u001b[0;34m.\u001b[0m\u001b[0mgroupby\u001b[0m\u001b[0;34m(\u001b[0m\u001b[0;34m[\u001b[0m\u001b[0;34m'date'\u001b[0m\u001b[0;34m]\u001b[0m\u001b[0;34m)\u001b[0m\u001b[0;34m.\u001b[0m\u001b[0msum\u001b[0m\u001b[0;34m(\u001b[0m\u001b[0;34m)\u001b[0m\u001b[0;34m\u001b[0m\u001b[0;34m\u001b[0m\u001b[0m\n\u001b[0;32m----> 4\u001b[0;31m   \u001b[0mdf_1\u001b[0m\u001b[0;34m=\u001b[0m\u001b[0mprovince_date\u001b[0m\u001b[0;34m(\u001b[0m\u001b[0;34m'서울'\u001b[0m\u001b[0;34m)\u001b[0m\u001b[0;34m.\u001b[0m\u001b[0mindex\u001b[0m\u001b[0;34m\u001b[0m\u001b[0;34m\u001b[0m\u001b[0m\n\u001b[0m\u001b[1;32m      5\u001b[0m   \u001b[0mdf_2\u001b[0m\u001b[0;34m=\u001b[0m\u001b[0mprovince_date\u001b[0m\u001b[0;34m(\u001b[0m\u001b[0;34m'서울'\u001b[0m\u001b[0;34m)\u001b[0m\u001b[0;34m.\u001b[0m\u001b[0mvalues\u001b[0m\u001b[0;34m\u001b[0m\u001b[0;34m\u001b[0m\u001b[0m\n\u001b[1;32m      6\u001b[0m   \u001b[0mdf_2\u001b[0m \u001b[0;34m=\u001b[0m \u001b[0mpd\u001b[0m\u001b[0;34m.\u001b[0m\u001b[0mDataFrame\u001b[0m\u001b[0;34m(\u001b[0m\u001b[0mdf_2\u001b[0m\u001b[0;34m,\u001b[0m \u001b[0mindex\u001b[0m\u001b[0;34m=\u001b[0m\u001b[0mdf_1\u001b[0m\u001b[0;34m,\u001b[0m \u001b[0mcolumns\u001b[0m\u001b[0;34m=\u001b[0m\u001b[0;34m[\u001b[0m\u001b[0mtext\u001b[0m\u001b[0;34m]\u001b[0m\u001b[0;34m)\u001b[0m\u001b[0;34m\u001b[0m\u001b[0;34m\u001b[0m\u001b[0m\n",
            "... last 1 frames repeated, from the frame below ...\n",
            "\u001b[0;32m<ipython-input-14-4494a164a156>\u001b[0m in \u001b[0;36mprovince_date\u001b[0;34m(text)\u001b[0m\n\u001b[1;32m      2\u001b[0m   \u001b[0;31m# province = text\u001b[0m\u001b[0;34m\u001b[0m\u001b[0;34m\u001b[0m\u001b[0;34m\u001b[0m\u001b[0m\n\u001b[1;32m      3\u001b[0m   \u001b[0mdata_group_province\u001b[0m \u001b[0;34m=\u001b[0m \u001b[0mdata_daily\u001b[0m\u001b[0;34m[\u001b[0m\u001b[0mdata_daily\u001b[0m\u001b[0;34m[\u001b[0m\u001b[0;34m'province'\u001b[0m\u001b[0;34m]\u001b[0m\u001b[0;34m==\u001b[0m\u001b[0mtext\u001b[0m\u001b[0;34m]\u001b[0m\u001b[0;34m.\u001b[0m\u001b[0mgroupby\u001b[0m\u001b[0;34m(\u001b[0m\u001b[0;34m[\u001b[0m\u001b[0;34m'date'\u001b[0m\u001b[0;34m]\u001b[0m\u001b[0;34m)\u001b[0m\u001b[0;34m.\u001b[0m\u001b[0msum\u001b[0m\u001b[0;34m(\u001b[0m\u001b[0;34m)\u001b[0m\u001b[0;34m\u001b[0m\u001b[0;34m\u001b[0m\u001b[0m\n\u001b[0;32m----> 4\u001b[0;31m   \u001b[0mdf_1\u001b[0m\u001b[0;34m=\u001b[0m\u001b[0mprovince_date\u001b[0m\u001b[0;34m(\u001b[0m\u001b[0;34m'서울'\u001b[0m\u001b[0;34m)\u001b[0m\u001b[0;34m.\u001b[0m\u001b[0mindex\u001b[0m\u001b[0;34m\u001b[0m\u001b[0;34m\u001b[0m\u001b[0m\n\u001b[0m\u001b[1;32m      5\u001b[0m   \u001b[0mdf_2\u001b[0m\u001b[0;34m=\u001b[0m\u001b[0mprovince_date\u001b[0m\u001b[0;34m(\u001b[0m\u001b[0;34m'서울'\u001b[0m\u001b[0;34m)\u001b[0m\u001b[0;34m.\u001b[0m\u001b[0mvalues\u001b[0m\u001b[0;34m\u001b[0m\u001b[0;34m\u001b[0m\u001b[0m\n\u001b[1;32m      6\u001b[0m   \u001b[0mdf_2\u001b[0m \u001b[0;34m=\u001b[0m \u001b[0mpd\u001b[0m\u001b[0;34m.\u001b[0m\u001b[0mDataFrame\u001b[0m\u001b[0;34m(\u001b[0m\u001b[0mdf_2\u001b[0m\u001b[0;34m,\u001b[0m \u001b[0mindex\u001b[0m\u001b[0;34m=\u001b[0m\u001b[0mdf_1\u001b[0m\u001b[0;34m,\u001b[0m \u001b[0mcolumns\u001b[0m\u001b[0;34m=\u001b[0m\u001b[0;34m[\u001b[0m\u001b[0mtext\u001b[0m\u001b[0;34m]\u001b[0m\u001b[0;34m)\u001b[0m\u001b[0;34m\u001b[0m\u001b[0;34m\u001b[0m\u001b[0m\n",
            "\u001b[0;31mRecursionError\u001b[0m: maximum recursion depth exceeded while calling a Python object"
          ]
        }
      ]
    },
    {
      "cell_type": "code",
      "metadata": {
        "id": "dEmrhaJM_P3f",
        "colab_type": "code",
        "colab": {}
      },
      "source": [
        ""
      ],
      "execution_count": null,
      "outputs": []
    },
    {
      "cell_type": "code",
      "metadata": {
        "id": "mBkE3Jef2CQN",
        "colab_type": "code",
        "colab": {
          "base_uri": "https://localhost:8080/",
          "height": 252
        },
        "outputId": "e06dbb43-ad30-4071-d04a-01761ec43801"
      },
      "source": [
        "plt.figure(figsize=(15,8))\n",
        "plt.plot(df_Seoul)\n",
        "# plt.plot(df_Jeju)\n",
        "# plt.plot(df_South_Gyeongsang)\n",
        "# plt.plot(df_North_Gyeongsang)\n",
        "# plt.plot(df_South_Jeolla)\n",
        "# plt.plot(df_North_Jeolla)\n",
        "# plt.plot(df_South_Chungcheong)\n",
        "# plt.plot(df_North_Chungcheong)\n",
        "# plt.plot(df_Gangwon)\n",
        "# plt.plot(df_Gyeonggi)\n",
        "# plt.plot(df_Sejong)\n",
        "# plt.plot(df_Ulsan)\n",
        "# plt.plot(df_Daejeon)\n",
        "# plt.plot(df_Gwangju)\n",
        "# plt.plot(df_Incheon)\n",
        "# plt.plot(df_Daegu)\n",
        "# plt.plot(df_Busan)\n",
        "\n",
        "plt.xticks(rotation=90)\n",
        "plt.xlabel('date')\n",
        "plt.ylabel('confirmed')\n",
        "plt.show()"
      ],
      "execution_count": 12,
      "outputs": [
        {
          "output_type": "error",
          "ename": "NameError",
          "evalue": "ignored",
          "traceback": [
            "\u001b[0;31m---------------------------------------------------------------------------\u001b[0m",
            "\u001b[0;31mNameError\u001b[0m                                 Traceback (most recent call last)",
            "\u001b[0;32m<ipython-input-12-f95ee654ea57>\u001b[0m in \u001b[0;36m<module>\u001b[0;34m()\u001b[0m\n\u001b[1;32m      1\u001b[0m \u001b[0mplt\u001b[0m\u001b[0;34m.\u001b[0m\u001b[0mfigure\u001b[0m\u001b[0;34m(\u001b[0m\u001b[0mfigsize\u001b[0m\u001b[0;34m=\u001b[0m\u001b[0;34m(\u001b[0m\u001b[0;36m15\u001b[0m\u001b[0;34m,\u001b[0m\u001b[0;36m8\u001b[0m\u001b[0;34m)\u001b[0m\u001b[0;34m)\u001b[0m\u001b[0;34m\u001b[0m\u001b[0;34m\u001b[0m\u001b[0m\n\u001b[0;32m----> 2\u001b[0;31m \u001b[0mplt\u001b[0m\u001b[0;34m.\u001b[0m\u001b[0mplot\u001b[0m\u001b[0;34m(\u001b[0m\u001b[0mdf_Seoul\u001b[0m\u001b[0;34m)\u001b[0m\u001b[0;34m\u001b[0m\u001b[0;34m\u001b[0m\u001b[0m\n\u001b[0m\u001b[1;32m      3\u001b[0m \u001b[0;31m# plt.plot(df_Jeju)\u001b[0m\u001b[0;34m\u001b[0m\u001b[0;34m\u001b[0m\u001b[0;34m\u001b[0m\u001b[0m\n\u001b[1;32m      4\u001b[0m \u001b[0;31m# plt.plot(df_South_Gyeongsang)\u001b[0m\u001b[0;34m\u001b[0m\u001b[0;34m\u001b[0m\u001b[0;34m\u001b[0m\u001b[0m\n\u001b[1;32m      5\u001b[0m \u001b[0;31m# plt.plot(df_North_Gyeongsang)\u001b[0m\u001b[0;34m\u001b[0m\u001b[0;34m\u001b[0m\u001b[0;34m\u001b[0m\u001b[0m\n",
            "\u001b[0;31mNameError\u001b[0m: name 'df_Seoul' is not defined"
          ]
        },
        {
          "output_type": "display_data",
          "data": {
            "text/plain": [
              "<Figure size 1080x576 with 0 Axes>"
            ]
          },
          "metadata": {
            "tags": []
          }
        }
      ]
    },
    {
      "cell_type": "code",
      "metadata": {
        "id": "q5PRKbZE6Dri",
        "colab_type": "code",
        "colab": {}
      },
      "source": [
        ""
      ],
      "execution_count": null,
      "outputs": []
    },
    {
      "cell_type": "markdown",
      "metadata": {
        "id": "0Eprr9e1xFiV",
        "colab_type": "text"
      },
      "source": [
        "# 정책"
      ]
    },
    {
      "cell_type": "code",
      "metadata": {
        "id": "VS73AvT9xP5N",
        "colab_type": "code",
        "colab": {
          "base_uri": "https://localhost:8080/",
          "height": 204
        },
        "outputId": "1ca464d7-7b34-477c-b18d-a1a35172227a"
      },
      "source": [
        "data_policy = pd.read_csv('policy/Policy.csv')\n",
        "data_policy.head(5)"
      ],
      "execution_count": 16,
      "outputs": [
        {
          "output_type": "execute_result",
          "data": {
            "text/html": [
              "<div>\n",
              "<style scoped>\n",
              "    .dataframe tbody tr th:only-of-type {\n",
              "        vertical-align: middle;\n",
              "    }\n",
              "\n",
              "    .dataframe tbody tr th {\n",
              "        vertical-align: top;\n",
              "    }\n",
              "\n",
              "    .dataframe thead th {\n",
              "        text-align: right;\n",
              "    }\n",
              "</style>\n",
              "<table border=\"1\" class=\"dataframe\">\n",
              "  <thead>\n",
              "    <tr style=\"text-align: right;\">\n",
              "      <th></th>\n",
              "      <th>policy_id</th>\n",
              "      <th>country</th>\n",
              "      <th>type</th>\n",
              "      <th>gov_policy</th>\n",
              "      <th>detail</th>\n",
              "      <th>start_date</th>\n",
              "      <th>end_date</th>\n",
              "    </tr>\n",
              "  </thead>\n",
              "  <tbody>\n",
              "    <tr>\n",
              "      <th>0</th>\n",
              "      <td>1</td>\n",
              "      <td>Korea</td>\n",
              "      <td>Alert</td>\n",
              "      <td>Infectious Disease Alert Level</td>\n",
              "      <td>Level 1 (Blue)</td>\n",
              "      <td>2020-01-03</td>\n",
              "      <td>2020-01-19</td>\n",
              "    </tr>\n",
              "    <tr>\n",
              "      <th>1</th>\n",
              "      <td>2</td>\n",
              "      <td>Korea</td>\n",
              "      <td>Alert</td>\n",
              "      <td>Infectious Disease Alert Level</td>\n",
              "      <td>Level 2 (Yellow)</td>\n",
              "      <td>2020-01-20</td>\n",
              "      <td>2020-01-27</td>\n",
              "    </tr>\n",
              "    <tr>\n",
              "      <th>2</th>\n",
              "      <td>3</td>\n",
              "      <td>Korea</td>\n",
              "      <td>Alert</td>\n",
              "      <td>Infectious Disease Alert Level</td>\n",
              "      <td>Level 3 (Orange)</td>\n",
              "      <td>2020-01-28</td>\n",
              "      <td>2020-02-22</td>\n",
              "    </tr>\n",
              "    <tr>\n",
              "      <th>3</th>\n",
              "      <td>4</td>\n",
              "      <td>Korea</td>\n",
              "      <td>Alert</td>\n",
              "      <td>Infectious Disease Alert Level</td>\n",
              "      <td>Level 4 (Red)</td>\n",
              "      <td>2020-02-23</td>\n",
              "      <td>2020-09-04</td>\n",
              "    </tr>\n",
              "    <tr>\n",
              "      <th>4</th>\n",
              "      <td>5</td>\n",
              "      <td>Korea</td>\n",
              "      <td>Immigration</td>\n",
              "      <td>Special Immigration Procedure</td>\n",
              "      <td>from China</td>\n",
              "      <td>2020-02-04</td>\n",
              "      <td>2020-09-04</td>\n",
              "    </tr>\n",
              "  </tbody>\n",
              "</table>\n",
              "</div>"
            ],
            "text/plain": [
              "   policy_id country         type  ...            detail  start_date    end_date\n",
              "0          1   Korea        Alert  ...    Level 1 (Blue)  2020-01-03  2020-01-19\n",
              "1          2   Korea        Alert  ...  Level 2 (Yellow)  2020-01-20  2020-01-27\n",
              "2          3   Korea        Alert  ...  Level 3 (Orange)  2020-01-28  2020-02-22\n",
              "3          4   Korea        Alert  ...     Level 4 (Red)  2020-02-23  2020-09-04\n",
              "4          5   Korea  Immigration  ...        from China  2020-02-04  2020-09-04\n",
              "\n",
              "[5 rows x 7 columns]"
            ]
          },
          "metadata": {
            "tags": []
          },
          "execution_count": 16
        }
      ]
    },
    {
      "cell_type": "code",
      "metadata": {
        "id": "qTarQy8rxcaZ",
        "colab_type": "code",
        "colab": {
          "base_uri": "https://localhost:8080/",
          "height": 762
        },
        "outputId": "6a6118de-a8fd-4486-e521-52203241c0ec"
      },
      "source": [
        "data_policy.groupby(['type','gov_policy']).count()"
      ],
      "execution_count": 17,
      "outputs": [
        {
          "output_type": "execute_result",
          "data": {
            "text/html": [
              "<div>\n",
              "<style scoped>\n",
              "    .dataframe tbody tr th:only-of-type {\n",
              "        vertical-align: middle;\n",
              "    }\n",
              "\n",
              "    .dataframe tbody tr th {\n",
              "        vertical-align: top;\n",
              "    }\n",
              "\n",
              "    .dataframe thead th {\n",
              "        text-align: right;\n",
              "    }\n",
              "</style>\n",
              "<table border=\"1\" class=\"dataframe\">\n",
              "  <thead>\n",
              "    <tr style=\"text-align: right;\">\n",
              "      <th></th>\n",
              "      <th></th>\n",
              "      <th>policy_id</th>\n",
              "      <th>country</th>\n",
              "      <th>detail</th>\n",
              "      <th>start_date</th>\n",
              "      <th>end_date</th>\n",
              "    </tr>\n",
              "    <tr>\n",
              "      <th>type</th>\n",
              "      <th>gov_policy</th>\n",
              "      <th></th>\n",
              "      <th></th>\n",
              "      <th></th>\n",
              "      <th></th>\n",
              "      <th></th>\n",
              "    </tr>\n",
              "  </thead>\n",
              "  <tbody>\n",
              "    <tr>\n",
              "      <th rowspan=\"3\" valign=\"top\">Administrative</th>\n",
              "      <th>Close bars and clubs</th>\n",
              "      <td>1</td>\n",
              "      <td>1</td>\n",
              "      <td>1</td>\n",
              "      <td>1</td>\n",
              "      <td>1</td>\n",
              "    </tr>\n",
              "    <tr>\n",
              "      <th>Close karaoke</th>\n",
              "      <td>1</td>\n",
              "      <td>1</td>\n",
              "      <td>1</td>\n",
              "      <td>1</td>\n",
              "      <td>1</td>\n",
              "    </tr>\n",
              "    <tr>\n",
              "      <th>local government Administrative orders</th>\n",
              "      <td>1</td>\n",
              "      <td>1</td>\n",
              "      <td>1</td>\n",
              "      <td>1</td>\n",
              "      <td>1</td>\n",
              "    </tr>\n",
              "    <tr>\n",
              "      <th>Alert</th>\n",
              "      <th>Infectious Disease Alert Level</th>\n",
              "      <td>4</td>\n",
              "      <td>4</td>\n",
              "      <td>4</td>\n",
              "      <td>4</td>\n",
              "      <td>4</td>\n",
              "    </tr>\n",
              "    <tr>\n",
              "      <th rowspan=\"3\" valign=\"top\">Education</th>\n",
              "      <th>School Closure</th>\n",
              "      <td>1</td>\n",
              "      <td>1</td>\n",
              "      <td>1</td>\n",
              "      <td>1</td>\n",
              "      <td>1</td>\n",
              "    </tr>\n",
              "    <tr>\n",
              "      <th>School Opening Delay</th>\n",
              "      <td>4</td>\n",
              "      <td>4</td>\n",
              "      <td>4</td>\n",
              "      <td>4</td>\n",
              "      <td>4</td>\n",
              "    </tr>\n",
              "    <tr>\n",
              "      <th>School Opening with Online Class</th>\n",
              "      <td>10</td>\n",
              "      <td>10</td>\n",
              "      <td>10</td>\n",
              "      <td>10</td>\n",
              "      <td>10</td>\n",
              "    </tr>\n",
              "    <tr>\n",
              "      <th rowspan=\"3\" valign=\"top\">Health</th>\n",
              "      <th>Drive-Through Screening Center</th>\n",
              "      <td>2</td>\n",
              "      <td>2</td>\n",
              "      <td>2</td>\n",
              "      <td>2</td>\n",
              "      <td>2</td>\n",
              "    </tr>\n",
              "    <tr>\n",
              "      <th>Emergency Use Authorization of Diagnostic Kit</th>\n",
              "      <td>5</td>\n",
              "      <td>5</td>\n",
              "      <td>5</td>\n",
              "      <td>5</td>\n",
              "      <td>5</td>\n",
              "    </tr>\n",
              "    <tr>\n",
              "      <th>Mask Distribution</th>\n",
              "      <td>2</td>\n",
              "      <td>2</td>\n",
              "      <td>2</td>\n",
              "      <td>2</td>\n",
              "      <td>2</td>\n",
              "    </tr>\n",
              "    <tr>\n",
              "      <th rowspan=\"3\" valign=\"top\">Immigration</th>\n",
              "      <th>Mandatory 14-day Self-Quarantine</th>\n",
              "      <td>1</td>\n",
              "      <td>1</td>\n",
              "      <td>1</td>\n",
              "      <td>1</td>\n",
              "      <td>1</td>\n",
              "    </tr>\n",
              "    <tr>\n",
              "      <th>Mandatory Self-Quarantine &amp; Diagonostic Tests</th>\n",
              "      <td>1</td>\n",
              "      <td>1</td>\n",
              "      <td>1</td>\n",
              "      <td>1</td>\n",
              "      <td>1</td>\n",
              "    </tr>\n",
              "    <tr>\n",
              "      <th>Special Immigration Procedure</th>\n",
              "      <td>13</td>\n",
              "      <td>13</td>\n",
              "      <td>13</td>\n",
              "      <td>13</td>\n",
              "      <td>13</td>\n",
              "    </tr>\n",
              "    <tr>\n",
              "      <th rowspan=\"2\" valign=\"top\">Social</th>\n",
              "      <th>Social Distancing Campaign</th>\n",
              "      <td>3</td>\n",
              "      <td>3</td>\n",
              "      <td>3</td>\n",
              "      <td>3</td>\n",
              "      <td>3</td>\n",
              "    </tr>\n",
              "    <tr>\n",
              "      <th>Thanks to Challenge korea</th>\n",
              "      <td>1</td>\n",
              "      <td>1</td>\n",
              "      <td>1</td>\n",
              "      <td>1</td>\n",
              "      <td>1</td>\n",
              "    </tr>\n",
              "    <tr>\n",
              "      <th rowspan=\"5\" valign=\"top\">Technology</th>\n",
              "      <th>Electronic Wristbands</th>\n",
              "      <td>1</td>\n",
              "      <td>1</td>\n",
              "      <td>1</td>\n",
              "      <td>1</td>\n",
              "      <td>1</td>\n",
              "    </tr>\n",
              "    <tr>\n",
              "      <th>Open API</th>\n",
              "      <td>1</td>\n",
              "      <td>1</td>\n",
              "      <td>1</td>\n",
              "      <td>1</td>\n",
              "      <td>1</td>\n",
              "    </tr>\n",
              "    <tr>\n",
              "      <th>Open Data</th>\n",
              "      <td>1</td>\n",
              "      <td>1</td>\n",
              "      <td>1</td>\n",
              "      <td>1</td>\n",
              "      <td>1</td>\n",
              "    </tr>\n",
              "    <tr>\n",
              "      <th>Self-Diagnosis App</th>\n",
              "      <td>1</td>\n",
              "      <td>1</td>\n",
              "      <td>1</td>\n",
              "      <td>1</td>\n",
              "      <td>1</td>\n",
              "    </tr>\n",
              "    <tr>\n",
              "      <th>Self-Quarantine Safety Protection App</th>\n",
              "      <td>1</td>\n",
              "      <td>1</td>\n",
              "      <td>1</td>\n",
              "      <td>1</td>\n",
              "      <td>1</td>\n",
              "    </tr>\n",
              "    <tr>\n",
              "      <th rowspan=\"2\" valign=\"top\">Transformation</th>\n",
              "      <th>Logistics center</th>\n",
              "      <td>1</td>\n",
              "      <td>1</td>\n",
              "      <td>1</td>\n",
              "      <td>1</td>\n",
              "      <td>1</td>\n",
              "    </tr>\n",
              "    <tr>\n",
              "      <th>Wearing of masks</th>\n",
              "      <td>2</td>\n",
              "      <td>2</td>\n",
              "      <td>2</td>\n",
              "      <td>2</td>\n",
              "      <td>2</td>\n",
              "    </tr>\n",
              "  </tbody>\n",
              "</table>\n",
              "</div>"
            ],
            "text/plain": [
              "                                                              policy_id  ...  end_date\n",
              "type           gov_policy                                                ...          \n",
              "Administrative Close bars and clubs                                   1  ...         1\n",
              "               Close karaoke                                          1  ...         1\n",
              "               local government Administrative orders                 1  ...         1\n",
              "Alert          Infectious Disease Alert Level                         4  ...         4\n",
              "Education      School Closure                                         1  ...         1\n",
              "               School Opening Delay                                   4  ...         4\n",
              "               School Opening with Online Class                      10  ...        10\n",
              "Health         Drive-Through Screening Center                         2  ...         2\n",
              "               Emergency Use Authorization of Diagnostic Kit          5  ...         5\n",
              "               Mask Distribution                                      2  ...         2\n",
              "Immigration    Mandatory 14-day Self-Quarantine                       1  ...         1\n",
              "               Mandatory Self-Quarantine & Diagonostic Tests          1  ...         1\n",
              "               Special Immigration Procedure                         13  ...        13\n",
              "Social         Social Distancing Campaign                             3  ...         3\n",
              "               Thanks to Challenge korea                              1  ...         1\n",
              "Technology     Electronic Wristbands                                  1  ...         1\n",
              "               Open API                                               1  ...         1\n",
              "               Open Data                                              1  ...         1\n",
              "               Self-Diagnosis App                                     1  ...         1\n",
              "               Self-Quarantine Safety Protection App                  1  ...         1\n",
              "Transformation Logistics center                                       1  ...         1\n",
              "               Wearing of masks                                       2  ...         2\n",
              "\n",
              "[22 rows x 5 columns]"
            ]
          },
          "metadata": {
            "tags": []
          },
          "execution_count": 17
        }
      ]
    },
    {
      "cell_type": "code",
      "metadata": {
        "id": "R-Lco1_S1NAn",
        "colab_type": "code",
        "colab": {
          "base_uri": "https://localhost:8080/",
          "height": 173
        },
        "outputId": "1a2d344b-c5d1-4baf-d8f7-e2ab64ccca85"
      },
      "source": [
        "data_date_confirmed = df\n",
        "data_date_confirmed.head(3)"
      ],
      "execution_count": 18,
      "outputs": [
        {
          "output_type": "execute_result",
          "data": {
            "text/html": [
              "<div>\n",
              "<style scoped>\n",
              "    .dataframe tbody tr th:only-of-type {\n",
              "        vertical-align: middle;\n",
              "    }\n",
              "\n",
              "    .dataframe tbody tr th {\n",
              "        vertical-align: top;\n",
              "    }\n",
              "\n",
              "    .dataframe thead th {\n",
              "        text-align: right;\n",
              "    }\n",
              "</style>\n",
              "<table border=\"1\" class=\"dataframe\">\n",
              "  <thead>\n",
              "    <tr style=\"text-align: right;\">\n",
              "      <th></th>\n",
              "      <th>confirmed</th>\n",
              "    </tr>\n",
              "    <tr>\n",
              "      <th>date</th>\n",
              "      <th></th>\n",
              "    </tr>\n",
              "  </thead>\n",
              "  <tbody>\n",
              "    <tr>\n",
              "      <th>2020-03-01</th>\n",
              "      <td>1172.0</td>\n",
              "    </tr>\n",
              "    <tr>\n",
              "      <th>2020-03-04</th>\n",
              "      <td>1032.0</td>\n",
              "    </tr>\n",
              "    <tr>\n",
              "      <th>2020-03-05</th>\n",
              "      <td>876.0</td>\n",
              "    </tr>\n",
              "  </tbody>\n",
              "</table>\n",
              "</div>"
            ],
            "text/plain": [
              "            confirmed\n",
              "date                 \n",
              "2020-03-01     1172.0\n",
              "2020-03-04     1032.0\n",
              "2020-03-05      876.0"
            ]
          },
          "metadata": {
            "tags": []
          },
          "execution_count": 18
        }
      ]
    },
    {
      "cell_type": "markdown",
      "metadata": {
        "id": "SCNSqOwPxJya",
        "colab_type": "text"
      },
      "source": [
        "## Administrative"
      ]
    },
    {
      "cell_type": "code",
      "metadata": {
        "id": "IbrBjSpFxJa5",
        "colab_type": "code",
        "colab": {}
      },
      "source": [
        "data_admin = data_policy[data_policy['type'] == 'Administrative']\n",
        "data_admin"
      ],
      "execution_count": null,
      "outputs": []
    },
    {
      "cell_type": "code",
      "metadata": {
        "id": "tgrILtjz1IgV",
        "colab_type": "code",
        "colab": {}
      },
      "source": [
        "df_admin = data_date_confirmed['2020-05-08':'2020-06-15']"
      ],
      "execution_count": null,
      "outputs": []
    },
    {
      "cell_type": "code",
      "metadata": {
        "id": "bPnZDjqT3Fff",
        "colab_type": "code",
        "colab": {}
      },
      "source": [
        "plt.figure(figsize=(15,15))\n",
        "plt.plot(df_admin)\n",
        "plt.xticks(rotation=90)\n",
        "plt.xlabel('date')\n",
        "plt.ylabel('confirmed')\n",
        "plt.show()"
      ],
      "execution_count": null,
      "outputs": []
    },
    {
      "cell_type": "markdown",
      "metadata": {
        "id": "ZDi1HuRN3oMS",
        "colab_type": "text"
      },
      "source": [
        "## Alert"
      ]
    },
    {
      "cell_type": "code",
      "metadata": {
        "id": "kuN8HbQm3qB4",
        "colab_type": "code",
        "colab": {}
      },
      "source": [
        "data_alert = data_policy[data_policy['type'] == 'Alert']\n",
        "data_alert"
      ],
      "execution_count": null,
      "outputs": []
    },
    {
      "cell_type": "code",
      "metadata": {
        "id": "6TYuWcKc30eN",
        "colab_type": "code",
        "colab": {}
      },
      "source": [
        "df_alert = data_date_confirmed['2020-01-03':'2020-03-31']"
      ],
      "execution_count": null,
      "outputs": []
    },
    {
      "cell_type": "code",
      "metadata": {
        "id": "04ozuuUN4Fts",
        "colab_type": "code",
        "colab": {}
      },
      "source": [
        "plt.figure(figsize=(10,10))\n",
        "plt.plot(df_alert)\n",
        "plt.xticks(rotation=90)\n",
        "plt.xlabel('date')\n",
        "plt.ylabel('confirmed')\n",
        "plt.show()"
      ],
      "execution_count": null,
      "outputs": []
    },
    {
      "cell_type": "markdown",
      "metadata": {
        "id": "bKIMjc2C45fj",
        "colab_type": "text"
      },
      "source": [
        "## Education"
      ]
    },
    {
      "cell_type": "code",
      "metadata": {
        "id": "EoJixXX24_wF",
        "colab_type": "code",
        "colab": {}
      },
      "source": [
        "data_edu = data_policy[data_policy['type'] == 'Education']\n",
        "data_edu"
      ],
      "execution_count": null,
      "outputs": []
    },
    {
      "cell_type": "code",
      "metadata": {
        "id": "Jpn0QhGg5NGI",
        "colab_type": "code",
        "colab": {}
      },
      "source": [
        "df_edu = data_date_confirmed['2020-03-02':'2020-06-08']"
      ],
      "execution_count": null,
      "outputs": []
    },
    {
      "cell_type": "code",
      "metadata": {
        "id": "mjZWXSIY5Wsc",
        "colab_type": "code",
        "colab": {}
      },
      "source": [
        "plt.figure(figsize=(20,10))\n",
        "plt.plot(df_edu)\n",
        "plt.xticks(rotation=90)\n",
        "plt.xlabel('date')\n",
        "plt.ylabel('confirmed')\n",
        "plt.show()"
      ],
      "execution_count": null,
      "outputs": []
    },
    {
      "cell_type": "markdown",
      "metadata": {
        "id": "-AFiRdNN6TY2",
        "colab_type": "text"
      },
      "source": [
        "* 03-10 ~ 03-12 : \n",
        "* 03-17 ~ 03-24 : \n",
        "* 03-26 ~ 03-31 : "
      ]
    },
    {
      "cell_type": "markdown",
      "metadata": {
        "id": "OH0jVJQU62sP",
        "colab_type": "text"
      },
      "source": [
        "## Health"
      ]
    },
    {
      "cell_type": "code",
      "metadata": {
        "id": "h6QYMRN165xv",
        "colab_type": "code",
        "colab": {}
      },
      "source": [
        "data_health = data_policy[data_policy['type'] == 'Health']\n",
        "data_health"
      ],
      "execution_count": null,
      "outputs": []
    },
    {
      "cell_type": "code",
      "metadata": {
        "id": "QjRsbB8l7dUp",
        "colab_type": "code",
        "colab": {}
      },
      "source": [
        "df_health = data_date_confirmed['2020-02-04':'2020-06-08']"
      ],
      "execution_count": null,
      "outputs": []
    },
    {
      "cell_type": "code",
      "metadata": {
        "id": "-W_-Fg4G7O-F",
        "colab_type": "code",
        "colab": {}
      },
      "source": [
        "plt.figure(figsize=(20,10))\n",
        "plt.plot(df_health)\n",
        "plt.xticks(rotation=90)\n",
        "plt.xlabel('date')\n",
        "plt.ylabel('confirmed')\n",
        "plt.show()"
      ],
      "execution_count": null,
      "outputs": []
    },
    {
      "cell_type": "markdown",
      "metadata": {
        "id": "_zw17_ZU8vHA",
        "colab_type": "text"
      },
      "source": [
        "## Immigration"
      ]
    },
    {
      "cell_type": "code",
      "metadata": {
        "id": "m7-tFP3u8wKq",
        "colab_type": "code",
        "colab": {}
      },
      "source": [
        "data_immigration = data_policy[data_policy['type'] == 'Immigration']\n",
        "data_immigration"
      ],
      "execution_count": null,
      "outputs": []
    },
    {
      "cell_type": "code",
      "metadata": {
        "id": "OgGoKdFG87_V",
        "colab_type": "code",
        "colab": {}
      },
      "source": [
        "df_immigration = data_date_confirmed['2020-02-04':'2020-04-31']"
      ],
      "execution_count": null,
      "outputs": []
    },
    {
      "cell_type": "code",
      "metadata": {
        "id": "FBVD5bfu9F7i",
        "colab_type": "code",
        "colab": {}
      },
      "source": [
        "plt.figure(figsize=(20,10))\n",
        "plt.plot(df_immigration)\n",
        "plt.xticks(rotation=90)\n",
        "plt.xlabel('date')\n",
        "plt.ylabel('confirmed')\n",
        "plt.show()"
      ],
      "execution_count": null,
      "outputs": []
    },
    {
      "cell_type": "markdown",
      "metadata": {
        "id": "Yh9BEo_H9W25",
        "colab_type": "text"
      },
      "source": [
        "## Social & Technology"
      ]
    },
    {
      "cell_type": "code",
      "metadata": {
        "id": "BkkWrStr9uOw",
        "colab_type": "code",
        "colab": {}
      },
      "source": [
        "data_social = data_policy[data_policy['type'] == 'Social']\n",
        "data_social"
      ],
      "execution_count": null,
      "outputs": []
    },
    {
      "cell_type": "code",
      "metadata": {
        "id": "ULhoizCQ91Yr",
        "colab_type": "code",
        "colab": {}
      },
      "source": [
        "data_technology = data_policy[data_policy['type'] == 'Technology']\n",
        "data_technology"
      ],
      "execution_count": null,
      "outputs": []
    },
    {
      "cell_type": "markdown",
      "metadata": {
        "id": "sD9fDoZV-NO2",
        "colab_type": "text"
      },
      "source": [
        "## Transformation\t"
      ]
    },
    {
      "cell_type": "code",
      "metadata": {
        "id": "wP7Bmuni-Qpq",
        "colab_type": "code",
        "colab": {}
      },
      "source": [
        "data_transformation = data_policy[data_policy['type'] == 'Transformation']\n",
        "data_transformation"
      ],
      "execution_count": null,
      "outputs": []
    },
    {
      "cell_type": "code",
      "metadata": {
        "id": "j7UEaOJu-eEZ",
        "colab_type": "code",
        "colab": {}
      },
      "source": [
        "df_transformation = data_date_confirmed['2020-05-27':'2020-06-31']"
      ],
      "execution_count": null,
      "outputs": []
    },
    {
      "cell_type": "code",
      "metadata": {
        "id": "aPrYYIR0-m4m",
        "colab_type": "code",
        "colab": {}
      },
      "source": [
        "plt.figure(figsize=(20,10))\n",
        "plt.plot(df_transformation)\n",
        "plt.xticks(rotation=90)\n",
        "plt.xlabel('date')\n",
        "plt.ylabel('confirmed')\n",
        "plt.show()"
      ],
      "execution_count": null,
      "outputs": []
    },
    {
      "cell_type": "markdown",
      "metadata": {
        "id": "dC4oOwkz-4Y2",
        "colab_type": "text"
      },
      "source": [
        "# 전체 기간"
      ]
    },
    {
      "cell_type": "code",
      "metadata": {
        "id": "rtXU3KyS-v1e",
        "colab_type": "code",
        "colab": {}
      },
      "source": [
        "plt.figure(figsize=(15,15))\n",
        "plt.plot(df)\n",
        "plt.xticks(rotation=90)\n",
        "plt.xlabel('date')\n",
        "plt.ylabel('confirmed')\n",
        "plt.show()"
      ],
      "execution_count": null,
      "outputs": []
    },
    {
      "cell_type": "markdown",
      "metadata": {
        "id": "7ezFBe8K_TK4",
        "colab_type": "text"
      },
      "source": [
        "## 교회 및 집회"
      ]
    },
    {
      "cell_type": "code",
      "metadata": {
        "id": "2KKjz1Xt--d1",
        "colab_type": "code",
        "colab": {}
      },
      "source": [
        "df_other = data_date_confirmed['2020-06-31':'2020-09-04']"
      ],
      "execution_count": null,
      "outputs": []
    },
    {
      "cell_type": "code",
      "metadata": {
        "id": "cS5eWg4M-9CL",
        "colab_type": "code",
        "colab": {}
      },
      "source": [
        "plt.figure(figsize=(15,15))\n",
        "plt.plot(df_other)\n",
        "plt.xticks(rotation=90)\n",
        "plt.xlabel('date')\n",
        "plt.ylabel('confirmed')\n",
        "plt.show()"
      ],
      "execution_count": null,
      "outputs": []
    },
    {
      "cell_type": "markdown",
      "metadata": {
        "id": "Sd91Ngqf0pCE",
        "colab_type": "text"
      },
      "source": [
        ""
      ]
    }
  ]
}